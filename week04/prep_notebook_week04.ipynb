{
 "cells": [
  {
   "cell_type": "markdown",
   "metadata": {},
   "source": [
    "# Beginning interactivity with tabular data: ipywidgets"
   ]
  },
  {
   "cell_type": "markdown",
   "metadata": {},
   "source": [
    "## ipywidgets: More details"
   ]
  },
  {
   "cell_type": "markdown",
   "metadata": {},
   "source": [
    "Import our usual things:"
   ]
  },
  {
   "cell_type": "code",
   "execution_count": 1,
   "metadata": {},
   "outputs": [],
   "source": [
    "%matplotlib inline\n",
    "import matplotlib.pyplot as plt\n",
    "import numpy as np"
   ]
  },
  {
   "cell_type": "markdown",
   "metadata": {},
   "source": [
    "Also import ipywidgets:"
   ]
  },
  {
   "cell_type": "code",
   "execution_count": 2,
   "metadata": {},
   "outputs": [],
   "source": [
    "import ipywidgets"
   ]
  },
  {
   "cell_type": "markdown",
   "metadata": {},
   "source": [
    "This is how we've used widgets before for the most part with the weird \"decorator\" function that \"decorates\" whatever function directly follows it:"
   ]
  },
  {
   "cell_type": "code",
   "execution_count": 3,
   "metadata": {},
   "outputs": [
    {
     "data": {
      "application/vnd.jupyter.widget-view+json": {
       "model_id": "9d6008806ca04f18b07f59ff55b0e85b",
       "version_major": 2,
       "version_minor": 0
      },
      "text/plain": [
       "interactive(children=(Dropdown(description='name', options=('Linda', 'Tina', 'Louise'), value='Linda'), Output…"
      ]
     },
     "metadata": {},
     "output_type": "display_data"
    }
   ],
   "source": [
    "@ipywidgets.interact(name = ['Linda', 'Tina', 'Louise'])\n",
    "def print_name(name):\n",
    "    print(name) # just a simple print out"
   ]
  },
  {
   "cell_type": "markdown",
   "metadata": {},
   "source": [
    "### Let's make sure we can mess with widgets\n",
    "\n",
    "But now, lets go into ipywidgets in a bit more detail and look at specific functions and call them directly from ipywidgets.\n",
    "\n",
    "For example, we can create a little display that increments integer numbers:"
   ]
  },
  {
   "cell_type": "code",
   "execution_count": 4,
   "metadata": {},
   "outputs": [
    {
     "data": {
      "application/vnd.jupyter.widget-view+json": {
       "model_id": "8bcda6b1ab9243c698e19ee31c78b5d0",
       "version_major": 2,
       "version_minor": 0
      },
      "text/plain": [
       "IntText(value=0)"
      ]
     },
     "metadata": {},
     "output_type": "display_data"
    }
   ],
   "source": [
    "itext = ipywidgets.IntText()\n",
    "itext"
   ]
  },
  {
   "cell_type": "markdown",
   "metadata": {},
   "source": [
    "But what if that didn't display for you?  Depending on what version of jupyter notebook you have, you might have to use \"display\" to actually show your widgets.  \n",
    "\n",
    "Try (uncommenting) the following:"
   ]
  },
  {
   "cell_type": "code",
   "execution_count": 5,
   "metadata": {},
   "outputs": [],
   "source": [
    "#from IPython.display import display\n",
    "#display(itext)"
   ]
  },
  {
   "cell_type": "markdown",
   "metadata": {},
   "source": [
    "Still didn't work?  Try refreshing and/or restarting your notebook.\n",
    "\n",
    "*Still* not working?  You might have to install the jupyter notebook widget extension:"
   ]
  },
  {
   "cell_type": "code",
   "execution_count": 6,
   "metadata": {},
   "outputs": [],
   "source": [
    "#!jupyter nbextension enable --py widgetsnbextension"
   ]
  },
  {
   "cell_type": "markdown",
   "metadata": {},
   "source": [
    "If you end up running the above cell (uncommented naturally!) then you might have to refresh or restart your jupyter notebook."
   ]
  },
  {
   "cell_type": "markdown",
   "metadata": {},
   "source": [
    "Moving on: \n",
    "\n",
    "The value of `itext` is then stored - so we could in theory generate a toggle and then do stuff with its value:"
   ]
  },
  {
   "cell_type": "code",
   "execution_count": 7,
   "metadata": {},
   "outputs": [
    {
     "data": {
      "text/plain": [
       "0"
      ]
     },
     "execution_count": 7,
     "metadata": {},
     "output_type": "execute_result"
    }
   ],
   "source": [
    "itext.value"
   ]
  },
  {
   "cell_type": "markdown",
   "metadata": {},
   "source": [
    "Note if I go up and change the toggle value I have to re-run this cell to print out the newly stored value."
   ]
  },
  {
   "cell_type": "markdown",
   "metadata": {},
   "source": [
    "I can also set the value \"by hand\":"
   ]
  },
  {
   "cell_type": "code",
   "execution_count": 8,
   "metadata": {},
   "outputs": [],
   "source": [
    "itext.value = 10"
   ]
  },
  {
   "cell_type": "markdown",
   "metadata": {},
   "source": [
    "Once I run this cell, now the toggle values are updated above."
   ]
  },
  {
   "cell_type": "markdown",
   "metadata": {},
   "source": [
    "### Building up interfaces with ipywidgets"
   ]
  },
  {
   "cell_type": "markdown",
   "metadata": {},
   "source": [
    "Let's start thinking about how we can link up widgets together to make interfaces!"
   ]
  },
  {
   "cell_type": "markdown",
   "metadata": {},
   "source": [
    "Let's start making up a little progress bar, and I'm going to set it at 90%:"
   ]
  },
  {
   "cell_type": "code",
   "execution_count": 9,
   "metadata": {},
   "outputs": [
    {
     "data": {
      "application/vnd.jupyter.widget-view+json": {
       "model_id": "a9890ebd52c44a4cabd40d752b0b3a4f",
       "version_major": 2,
       "version_minor": 0
      },
      "text/plain": [
       "IntProgress(value=90)"
      ]
     },
     "metadata": {},
     "output_type": "display_data"
    }
   ],
   "source": [
    "ip = ipywidgets.IntProgress(value = 90)\n",
    "ip"
   ]
  },
  {
   "cell_type": "markdown",
   "metadata": {},
   "source": [
    "Let's think about how we'd link up this with a little integer slider to change our value:"
   ]
  },
  {
   "cell_type": "code",
   "execution_count": 10,
   "metadata": {},
   "outputs": [
    {
     "data": {
      "application/vnd.jupyter.widget-view+json": {
       "model_id": "67009c84bdb84e609344e87549a39470",
       "version_major": 2,
       "version_minor": 0
      },
      "text/plain": [
       "IntSlider(value=0)"
      ]
     },
     "metadata": {},
     "output_type": "display_data"
    }
   ],
   "source": [
    "irange = ipywidgets.IntSlider(min = 0, max = 100, step = 1)\n",
    "irange"
   ]
  },
  {
   "cell_type": "markdown",
   "metadata": {},
   "source": [
    "Right now I can change one and not the other, so that's not what we are going for.  We have to \"link\" whatever is in our widgets that controls both our progress bar and our integer slider.  \n",
    "\n",
    "But what do we link?  Let's see whats \"in\" our different widgets:"
   ]
  },
  {
   "cell_type": "code",
   "execution_count": 11,
   "metadata": {},
   "outputs": [
    {
     "data": {
      "text/plain": [
       "['_dom_classes',\n",
       " '_model_module',\n",
       " '_model_module_version',\n",
       " '_model_name',\n",
       " '_view_count',\n",
       " '_view_module',\n",
       " '_view_module_version',\n",
       " '_view_name',\n",
       " 'bar_style',\n",
       " 'description',\n",
       " 'description_tooltip',\n",
       " 'layout',\n",
       " 'max',\n",
       " 'min',\n",
       " 'orientation',\n",
       " 'style',\n",
       " 'value']"
      ]
     },
     "execution_count": 11,
     "metadata": {},
     "output_type": "execute_result"
    }
   ],
   "source": [
    "ip.keys"
   ]
  },
  {
   "cell_type": "code",
   "execution_count": 12,
   "metadata": {},
   "outputs": [
    {
     "data": {
      "text/plain": [
       "['_dom_classes',\n",
       " '_model_module',\n",
       " '_model_module_version',\n",
       " '_model_name',\n",
       " '_view_count',\n",
       " '_view_module',\n",
       " '_view_module_version',\n",
       " '_view_name',\n",
       " 'continuous_update',\n",
       " 'description',\n",
       " 'description_tooltip',\n",
       " 'disabled',\n",
       " 'layout',\n",
       " 'max',\n",
       " 'min',\n",
       " 'orientation',\n",
       " 'readout',\n",
       " 'readout_format',\n",
       " 'step',\n",
       " 'style',\n",
       " 'value']"
      ]
     },
     "execution_count": 12,
     "metadata": {},
     "output_type": "execute_result"
    }
   ],
   "source": [
    "irange.keys"
   ]
  },
  {
   "cell_type": "markdown",
   "metadata": {},
   "source": [
    "So, there are a lot of parameters here, but one thing that is pretty standard across all widgets is that they have some sort of \"value\" that can be updated, for example, behold:"
   ]
  },
  {
   "cell_type": "code",
   "execution_count": 13,
   "metadata": {},
   "outputs": [
    {
     "data": {
      "application/vnd.jupyter.widget-view+json": {
       "model_id": "a9890ebd52c44a4cabd40d752b0b3a4f",
       "version_major": 2,
       "version_minor": 0
      },
      "text/plain": [
       "IntProgress(value=90)"
      ]
     },
     "metadata": {},
     "output_type": "display_data"
    }
   ],
   "source": [
    "ip"
   ]
  },
  {
   "cell_type": "code",
   "execution_count": 14,
   "metadata": {},
   "outputs": [],
   "source": [
    "ip.value=10"
   ]
  },
  {
   "cell_type": "markdown",
   "metadata": {},
   "source": [
    "How do we link the values of these two widgets?  With a function called `jslink`:"
   ]
  },
  {
   "cell_type": "code",
   "execution_count": 15,
   "metadata": {},
   "outputs": [],
   "source": [
    "ipywidgets.jslink?"
   ]
  },
  {
   "cell_type": "markdown",
   "metadata": {},
   "source": [
    "Let's give it a shot!"
   ]
  },
  {
   "cell_type": "code",
   "execution_count": 16,
   "metadata": {},
   "outputs": [
    {
     "data": {
      "text/plain": [
       "Link(source=(IntProgress(value=10), 'value'), target=(IntSlider(value=0), 'value'))"
      ]
     },
     "metadata": {},
     "output_type": "display_data"
    }
   ],
   "source": [
    "ipywidgets.jslink((ip,'value'), (irange,'value'))"
   ]
  },
  {
   "cell_type": "markdown",
   "metadata": {},
   "source": [
    "Let's see!"
   ]
  },
  {
   "cell_type": "code",
   "execution_count": 17,
   "metadata": {},
   "outputs": [
    {
     "data": {
      "application/vnd.jupyter.widget-view+json": {
       "model_id": "a9890ebd52c44a4cabd40d752b0b3a4f",
       "version_major": 2,
       "version_minor": 0
      },
      "text/plain": [
       "IntProgress(value=10)"
      ]
     },
     "metadata": {},
     "output_type": "display_data"
    }
   ],
   "source": [
    "ip"
   ]
  },
  {
   "cell_type": "code",
   "execution_count": 18,
   "metadata": {},
   "outputs": [
    {
     "data": {
      "application/vnd.jupyter.widget-view+json": {
       "model_id": "67009c84bdb84e609344e87549a39470",
       "version_major": 2,
       "version_minor": 0
      },
      "text/plain": [
       "IntSlider(value=0)"
      ]
     },
     "metadata": {},
     "output_type": "display_data"
    }
   ],
   "source": [
    "irange"
   ]
  },
  {
   "cell_type": "markdown",
   "metadata": {},
   "source": [
    "Cool!  Note that they are all linked -- every instance!"
   ]
  },
  {
   "cell_type": "markdown",
   "metadata": {},
   "source": [
    "So, we probably want to display these two widgets on top of eachother, how can we do that?\n",
    "\n",
    "ipywidgets has a bunch of layout options we can use:"
   ]
  },
  {
   "cell_type": "code",
   "execution_count": 19,
   "metadata": {},
   "outputs": [
    {
     "data": {
      "application/vnd.jupyter.widget-view+json": {
       "model_id": "48e75bfb2a124211a5d752ed58ddf396",
       "version_major": 2,
       "version_minor": 0
      },
      "text/plain": [
       "VBox(children=(IntProgress(value=10), IntSlider(value=0)))"
      ]
     },
     "metadata": {},
     "output_type": "display_data"
    }
   ],
   "source": [
    "ipywidgets.VBox([ip, irange])"
   ]
  },
  {
   "cell_type": "markdown",
   "metadata": {},
   "source": [
    "What does this `jslink` function do?  We know it links the values, but how?  It does this on the \"browser side\", but what does that mean?\n",
    "\n",
    "There are actually 2 different programming languages operating when you are using a jupyter notebook:\n",
    " 1. Python is used to do your calculations\n",
    " 1. Javascript is used to \"report\" back the outputs from Python\n",
    "\n",
    "Here `jslink` means that the link between your progress bar and slider is happening through Javascript, and happens all within your browser - Python is never contacted about anything in this case!\n",
    "\n",
    "We'll see in a second that there are some instances where we want more options than presented with `jslink` and so we'll actually want Python to get involved in the linking of things.  \n",
    "\n",
    "Let's redo what we just did but getting Python involved:"
   ]
  },
  {
   "cell_type": "code",
   "execution_count": 20,
   "metadata": {},
   "outputs": [
    {
     "data": {
      "application/vnd.jupyter.widget-view+json": {
       "model_id": "b522829e70dd47a0a20fab050bd5f743",
       "version_major": 2,
       "version_minor": 0
      },
      "text/plain": [
       "VBox(children=(IntProgress(value=90), IntSlider(value=90)))"
      ]
     },
     "metadata": {},
     "output_type": "display_data"
    }
   ],
   "source": [
    "ip2 = ipywidgets.IntProgress(value = 90)\n",
    "irange2 = ipywidgets.IntSlider(min = 0, max = 100, step = 1)\n",
    "ipywidgets.link((ip2,'value'), (irange2,'value')) # here is the change: \"jslink\" changes to \"link\"\n",
    "ipywidgets.VBox([ip2, irange2])"
   ]
  },
  {
   "cell_type": "markdown",
   "metadata": {},
   "source": [
    "So, just looking at it, it looks exactly the same!  However, we did did this through *Python* this time."
   ]
  },
  {
   "cell_type": "markdown",
   "metadata": {},
   "source": [
    "In this sense we add an extra step:\n",
    " 1. first the browser senses a change when you move the slider (Javascript)\n",
    " 1. sends this info to the kernel (Javascript -> Python)\n",
    " 1. Python registers this change and figures out what to do with it, in this case it says to update the progress bar (Python)\n",
    " 1. Python then tells the browser to update the progress bar (Python -> Javascript)\n",
    " 1. the browser displays the change in the progress bar (Javascript)"
   ]
  },
  {
   "cell_type": "markdown",
   "metadata": {},
   "source": [
    "Ok, that's a little complicated.  The big question you can ask yourself is: Do we really care?  At the moment, no - we can do everything we want using Python/JS in these notebooks, doesn't really affect us one way or the other.  When we start thinking about developing for the web however, we have to think carefully about how to design things because a remote browser only has access to JS by default!  But by then we'll be learning Javascript anyway, so not to worry!\n",
    "\n",
    "For now, let's move on and worry about this JS/Python linking distinction later.\n",
    "\n",
    "Let's try making a button that does something when we press it:"
   ]
  },
  {
   "cell_type": "code",
   "execution_count": 21,
   "metadata": {},
   "outputs": [
    {
     "data": {
      "application/vnd.jupyter.widget-view+json": {
       "model_id": "8b39b78853ce4b40bbe73eff097bd90f",
       "version_major": 2,
       "version_minor": 0
      },
      "text/plain": [
       "Button(description='I am a Clicker', style=ButtonStyle())"
      ]
     },
     "metadata": {},
     "output_type": "display_data"
    }
   ],
   "source": [
    "button = ipywidgets.Button(description = \"I am a Clicker\")\n",
    "button"
   ]
  },
  {
   "cell_type": "markdown",
   "metadata": {},
   "source": [
    "So, obviously, we want to do something cool when the button is clicked.  To do that, first we make a function that will do something when we click our button:"
   ]
  },
  {
   "cell_type": "code",
   "execution_count": 22,
   "metadata": {},
   "outputs": [],
   "source": [
    "# let's just say I've clicked:\n",
    "def say_click(event):\n",
    "    print(\"I have clicked. Click.\")"
   ]
  },
  {
   "cell_type": "markdown",
   "metadata": {},
   "source": [
    "Now we have to link our button click to this function, which is more complicated then what `jslink` can handle, so we use the \"on_click\" function associated with this button through the Python-linking channel:"
   ]
  },
  {
   "cell_type": "code",
   "execution_count": 23,
   "metadata": {},
   "outputs": [],
   "source": [
    "button.on_click(say_click)"
   ]
  },
  {
   "cell_type": "markdown",
   "metadata": {},
   "source": [
    "Now, note that if we go back and press our button, it now prints our statement.  This seems indeed like magic, but its using \"callbacks\" to look for changes via Python.  Practically, we don't have to worry about what is going on under the hood for what we want to do with ipywidgets, but it is none-the-less pretty neat. :)"
   ]
  },
  {
   "cell_type": "markdown",
   "metadata": {},
   "source": [
    "Let's build up a bit more complex interactivity using our new friend the button and this \"on_click\" function to interactively update our progress bar."
   ]
  },
  {
   "cell_type": "markdown",
   "metadata": {},
   "source": [
    "Lets start by making a progress bar again:"
   ]
  },
  {
   "cell_type": "code",
   "execution_count": 24,
   "metadata": {},
   "outputs": [],
   "source": [
    "ip = ipywidgets.IntProgress()"
   ]
  },
  {
   "cell_type": "markdown",
   "metadata": {},
   "source": [
    "Now, lets add in a button that will add 10:"
   ]
  },
  {
   "cell_type": "code",
   "execution_count": 25,
   "metadata": {},
   "outputs": [],
   "source": [
    "button_plus = ipywidgets.Button(description = \"+10\")"
   ]
  },
  {
   "cell_type": "markdown",
   "metadata": {},
   "source": [
    "... and one that will subtract 10:"
   ]
  },
  {
   "cell_type": "code",
   "execution_count": 26,
   "metadata": {},
   "outputs": [],
   "source": [
    "button_minus = ipywidgets.Button(description = \"-10\")"
   ]
  },
  {
   "cell_type": "markdown",
   "metadata": {},
   "source": [
    "Lets see how this looks in a horizontal box row:"
   ]
  },
  {
   "cell_type": "code",
   "execution_count": 27,
   "metadata": {},
   "outputs": [
    {
     "data": {
      "application/vnd.jupyter.widget-view+json": {
       "model_id": "27f5093aea184946b5ba47a2d050104d",
       "version_major": 2,
       "version_minor": 0
      },
      "text/plain": [
       "HBox(children=(Button(description='-10', style=ButtonStyle()), IntProgress(value=0), Button(description='+10',…"
      ]
     },
     "metadata": {},
     "output_type": "display_data"
    }
   ],
   "source": [
    "ipywidgets.HBox([button_minus, ip, button_plus])"
   ]
  },
  {
   "cell_type": "markdown",
   "metadata": {},
   "source": [
    "Note if we click these, nothing happens. This is because we haven't associated actions to our clicks just yet.  We have to make some functions that will tell our buttons and progress bar what to do when each respective button is clicked.  So, let's do that!"
   ]
  },
  {
   "cell_type": "markdown",
   "metadata": {},
   "source": [
    "First, let's remind ourselves what we want to be changing here -- the value of the progress bar:"
   ]
  },
  {
   "cell_type": "code",
   "execution_count": 28,
   "metadata": {},
   "outputs": [
    {
     "data": {
      "text/plain": [
       "0"
      ]
     },
     "execution_count": 28,
     "metadata": {},
     "output_type": "execute_result"
    }
   ],
   "source": [
    "ip.value"
   ]
  },
  {
   "cell_type": "markdown",
   "metadata": {},
   "source": [
    "Lets now associate a change in the value of our progress bar when we click the down button:"
   ]
  },
  {
   "cell_type": "code",
   "execution_count": 29,
   "metadata": {},
   "outputs": [],
   "source": [
    "def click_down(event):\n",
    "    ip.value -= 10"
   ]
  },
  {
   "cell_type": "markdown",
   "metadata": {},
   "source": [
    "Note that while I'm going to associate the click of my button with the `-10` button the *action* that happens when I click is to change the value of the progress bar!"
   ]
  },
  {
   "cell_type": "markdown",
   "metadata": {},
   "source": [
    "Lets tie this change in value to the click with the \"on_click\" function of our down button:"
   ]
  },
  {
   "cell_type": "code",
   "execution_count": 30,
   "metadata": {},
   "outputs": [],
   "source": [
    "button_minus.on_click(click_down)"
   ]
  },
  {
   "cell_type": "markdown",
   "metadata": {},
   "source": [
    "Now let's do the same for our \"+10\" button:"
   ]
  },
  {
   "cell_type": "code",
   "execution_count": 31,
   "metadata": {},
   "outputs": [],
   "source": [
    "def click_up(event):\n",
    "    ip.value += 10\n",
    "button_plus.on_click(click_up)"
   ]
  },
  {
   "cell_type": "markdown",
   "metadata": {},
   "source": [
    "We can now go back up and click on our progress bar, or we can re-display again as well:"
   ]
  },
  {
   "cell_type": "code",
   "execution_count": 32,
   "metadata": {},
   "outputs": [
    {
     "data": {
      "application/vnd.jupyter.widget-view+json": {
       "model_id": "9b5b867a8a8c4db2bb131944eb5768d3",
       "version_major": 2,
       "version_minor": 0
      },
      "text/plain": [
       "HBox(children=(Button(description='-10', style=ButtonStyle()), IntProgress(value=0), Button(description='+10',…"
      ]
     },
     "metadata": {},
     "output_type": "display_data"
    }
   ],
   "source": [
    "ipywidgets.HBox([button_minus, ip, button_plus])"
   ]
  },
  {
   "cell_type": "markdown",
   "metadata": {},
   "source": [
    "## A few more ipywidget linking practice examples\n",
    "\n",
    "Let's try a few more!"
   ]
  },
  {
   "cell_type": "markdown",
   "metadata": {},
   "source": [
    "### #1: More with layouts (and text boxes) -- OPTIONAL-ISH"
   ]
  },
  {
   "cell_type": "markdown",
   "metadata": {},
   "source": [
    "We can use ipywidgets to create text boxes:"
   ]
  },
  {
   "cell_type": "code",
   "execution_count": 33,
   "metadata": {},
   "outputs": [],
   "source": [
    "ta1 = ipywidgets.Textarea(\"Hi, this is a box of text. (1)\")\n",
    "\n",
    "ta2 = ipywidgets.Textarea(\"Hi, this is a box of text. (2)\")\n",
    "\n",
    "ta3 = ipywidgets.Textarea(\"Hi, this is a box of text. (3)\")\n",
    "\n",
    "ta4 = ipywidgets.Textarea(\"Hi, this is a box of text. (4)\")"
   ]
  },
  {
   "cell_type": "markdown",
   "metadata": {},
   "source": [
    "There are different ways we can layout these text boxes.\n",
    "\n",
    "We can make tabs:"
   ]
  },
  {
   "cell_type": "code",
   "execution_count": 34,
   "metadata": {},
   "outputs": [
    {
     "data": {
      "application/vnd.jupyter.widget-view+json": {
       "model_id": "8072333ad9e541deb7ca13e606e6755b",
       "version_major": 2,
       "version_minor": 0
      },
      "text/plain": [
       "Tab(children=(Textarea(value='Hi, this is a box of text. (1)'), Textarea(value='Hi, this is a box of text. (2)…"
      ]
     },
     "metadata": {},
     "output_type": "display_data"
    }
   ],
   "source": [
    "tabs = ipywidgets.Tab([ta1, ta2, ta3, ta4])\n",
    "tabs"
   ]
  },
  {
   "cell_type": "markdown",
   "metadata": {},
   "source": [
    "Or we can \"accordian\" them:"
   ]
  },
  {
   "cell_type": "code",
   "execution_count": 35,
   "metadata": {},
   "outputs": [
    {
     "data": {
      "application/vnd.jupyter.widget-view+json": {
       "model_id": "94992203fb304481b810229c69d336e0",
       "version_major": 2,
       "version_minor": 0
      },
      "text/plain": [
       "Accordion(children=(Textarea(value='Hi, this is a box of text. (1)'), Textarea(value='Hi, this is a box of tex…"
      ]
     },
     "metadata": {},
     "output_type": "display_data"
    }
   ],
   "source": [
    "acc = ipywidgets.Accordion([ta1, ta2, ta3, ta4])\n",
    "acc"
   ]
  },
  {
   "cell_type": "markdown",
   "metadata": {},
   "source": [
    "We can organize them into horizontal boxes like we did before:"
   ]
  },
  {
   "cell_type": "code",
   "execution_count": 36,
   "metadata": {},
   "outputs": [
    {
     "data": {
      "application/vnd.jupyter.widget-view+json": {
       "model_id": "da77f4b824444c0e95213b30cc34c852",
       "version_major": 2,
       "version_minor": 0
      },
      "text/plain": [
       "HBox(children=(Textarea(value='Hi, this is a box of text. (1)'), Textarea(value='Hi, this is a box of text. (2…"
      ]
     },
     "metadata": {},
     "output_type": "display_data"
    }
   ],
   "source": [
    "ipywidgets.HBox([ta1, ta2, ta3, ta4])"
   ]
  },
  {
   "cell_type": "markdown",
   "metadata": {},
   "source": [
    "Note this means a few of them are off screen so this might not be the best option in this calse.\n",
    "\n",
    "We can organize them in a vertical box instead:"
   ]
  },
  {
   "cell_type": "code",
   "execution_count": 37,
   "metadata": {},
   "outputs": [
    {
     "data": {
      "application/vnd.jupyter.widget-view+json": {
       "model_id": "67a0f585453742f4aee647ffca522115",
       "version_major": 2,
       "version_minor": 0
      },
      "text/plain": [
       "VBox(children=(Textarea(value='Hi, this is a box of text. (1)'), Textarea(value='Hi, this is a box of text. (2…"
      ]
     },
     "metadata": {},
     "output_type": "display_data"
    }
   ],
   "source": [
    "ipywidgets.VBox([ta1, ta2, ta3, ta4])"
   ]
  },
  {
   "cell_type": "markdown",
   "metadata": {},
   "source": [
    "Or, if we want to be super fancy we can organize them in a verticle box of sets of horizontal boxes:"
   ]
  },
  {
   "cell_type": "code",
   "execution_count": 38,
   "metadata": {},
   "outputs": [
    {
     "data": {
      "application/vnd.jupyter.widget-view+json": {
       "model_id": "dd9f4e60ea984af3996f61916a1d6964",
       "version_major": 2,
       "version_minor": 0
      },
      "text/plain": [
       "VBox(children=(HBox(children=(Textarea(value='Hi, this is a box of text. (1)'), Textarea(value='Hi, this is a …"
      ]
     },
     "metadata": {},
     "output_type": "display_data"
    }
   ],
   "source": [
    "ipywidgets.VBox( [ipywidgets.HBox([ta1, ta2]),\n",
    "                  ipywidgets.HBox([ta3, ta4])] )"
   ]
  },
  {
   "cell_type": "markdown",
   "metadata": {},
   "source": [
    "We can even insert another widget in our array of horizontal boxes and see how ipywidgets would place it -- let's try it with a label widget:"
   ]
  },
  {
   "cell_type": "code",
   "execution_count": 39,
   "metadata": {},
   "outputs": [
    {
     "data": {
      "application/vnd.jupyter.widget-view+json": {
       "model_id": "608ff148f80a4ca9b9e3011b19f9a319",
       "version_major": 2,
       "version_minor": 0
      },
      "text/plain": [
       "VBox(children=(HBox(children=(Textarea(value='Hi, this is a box of text. (1)'), Textarea(value='Hi, this is a …"
      ]
     },
     "metadata": {},
     "output_type": "display_data"
    }
   ],
   "source": [
    "ipywidgets.VBox( [ipywidgets.HBox([ta1, ta2]),\n",
    "                  ipywidgets.Label(\"Hello there!\"),\n",
    "                  ipywidgets.HBox([ta3, ta4])] )"
   ]
  },
  {
   "cell_type": "markdown",
   "metadata": {},
   "source": [
    "### #2: More with layouts (and text boxes) -- putting together sliders with play button -- OPTIONAL"
   ]
  },
  {
   "cell_type": "markdown",
   "metadata": {},
   "source": [
    "As a quick example, lets link an integer slider to our play button.  First, lets define the range of our play button:"
   ]
  },
  {
   "cell_type": "code",
   "execution_count": 40,
   "metadata": {},
   "outputs": [],
   "source": [
    "play = ipywidgets.Play(interval = 50, value = 50, min = 1, max = 100, step = 1, description = \"Press Play\")"
   ]
  },
  {
   "cell_type": "markdown",
   "metadata": {},
   "source": [
    "Here, we start at 50, and create min and max value around that. Now, lets create our slider:"
   ]
  },
  {
   "cell_type": "code",
   "execution_count": 41,
   "metadata": {},
   "outputs": [],
   "source": [
    "slider = ipywidgets.IntSlider()"
   ]
  },
  {
   "cell_type": "markdown",
   "metadata": {},
   "source": [
    "Now let's link the min and max of the play interval with the min and max of the integer slider using the `jslink` function:"
   ]
  },
  {
   "cell_type": "code",
   "execution_count": 42,
   "metadata": {},
   "outputs": [
    {
     "data": {
      "text/plain": [
       "Link(source=(Play(value=50, description='Press Play', interval=50, min=1), 'value'), target=(IntSlider(value=0…"
      ]
     },
     "metadata": {},
     "output_type": "display_data"
    }
   ],
   "source": [
    "ipywidgets.jslink((play, 'min'), (slider, 'min'))\n",
    "ipywidgets.jslink((play, 'max'), (slider, 'max'))\n",
    "ipywidgets.jslink((play, 'value'), (slider, 'value'))"
   ]
  },
  {
   "cell_type": "markdown",
   "metadata": {},
   "source": [
    "Note that we don't have to tell the .link function how to link these objects - it knows intuatively. How to link the play widget min & max to the slider min and max.\n",
    "\n",
    "Finally, let's display them side by side:"
   ]
  },
  {
   "cell_type": "code",
   "execution_count": 43,
   "metadata": {},
   "outputs": [
    {
     "data": {
      "application/vnd.jupyter.widget-view+json": {
       "model_id": "25801d4ef67340abada4de5df71f5d0c",
       "version_major": 2,
       "version_minor": 0
      },
      "text/plain": [
       "HBox(children=(Play(value=50, description='Press Play', interval=50, min=1), IntSlider(value=0)))"
      ]
     },
     "metadata": {},
     "output_type": "display_data"
    }
   ],
   "source": [
    "ipywidgets.HBox([play, slider])"
   ]
  },
  {
   "cell_type": "markdown",
   "metadata": {},
   "source": [
    "### #3: slider colorpicker and an intro to traitlets and .observe -- NECESSARY FOR TRAITLETS"
   ]
  },
  {
   "cell_type": "markdown",
   "metadata": {},
   "source": [
    "Lets first make a slider:"
   ]
  },
  {
   "cell_type": "code",
   "execution_count": 44,
   "metadata": {},
   "outputs": [],
   "source": [
    "islider = ipywidgets.IntSlider(min = 0, max = 10, step = 1, orientation = 'vertical')"
   ]
  },
  {
   "cell_type": "markdown",
   "metadata": {},
   "source": [
    "Lets give this slider a base color that is sort of purple-y, using a hex code.  Recall: HTML hex codes are another way to \"name\" colors:\n",
    "\n",
    "<img src=\"https://i.pinimg.com/originals/7b/f7/c6/7bf7c6e53128592dcd608f368571821c.gif\">"
   ]
  },
  {
   "cell_type": "code",
   "execution_count": 45,
   "metadata": {},
   "outputs": [],
   "source": [
    "islider.style.handle_color = \"#750075\""
   ]
  },
  {
   "cell_type": "markdown",
   "metadata": {},
   "source": [
    "Let's take a quick look:"
   ]
  },
  {
   "cell_type": "code",
   "execution_count": 46,
   "metadata": {},
   "outputs": [
    {
     "data": {
      "application/vnd.jupyter.widget-view+json": {
       "model_id": "5b3b9d43d1d34549b1dccb6529972de5",
       "version_major": 2,
       "version_minor": 0
      },
      "text/plain": [
       "IntSlider(value=0, max=10, orientation='vertical', style=SliderStyle(handle_color='#750075'))"
      ]
     },
     "metadata": {},
     "output_type": "display_data"
    }
   ],
   "source": [
    "islider "
   ]
  },
  {
   "cell_type": "markdown",
   "metadata": {},
   "source": [
    "Just slides up and down, nothing too exciting.  Lets create a new widget object called a color picker to pick the color of our handle:"
   ]
  },
  {
   "cell_type": "code",
   "execution_count": 47,
   "metadata": {},
   "outputs": [
    {
     "data": {
      "application/vnd.jupyter.widget-view+json": {
       "model_id": "1d0fe7a077c24554be4933bd5ad4382e",
       "version_major": 2,
       "version_minor": 0
      },
      "text/plain": [
       "ColorPicker(value='black')"
      ]
     },
     "metadata": {},
     "output_type": "display_data"
    }
   ],
   "source": [
    "cp = ipywidgets.ColorPicker()\n",
    "cp"
   ]
  },
  {
   "cell_type": "markdown",
   "metadata": {},
   "source": [
    "When we show this we can click on the little box and it pops up a color picker we can mess around with!  Neato.\n",
    "\n",
    "Now let's link the slider's color with the color picker's value.  For practice, let's use the Python-based `link` function:"
   ]
  },
  {
   "cell_type": "code",
   "execution_count": 48,
   "metadata": {},
   "outputs": [
    {
     "data": {
      "text/plain": [
       "<traitlets.traitlets.link at 0x7f8fc8080990>"
      ]
     },
     "execution_count": 48,
     "metadata": {},
     "output_type": "execute_result"
    }
   ],
   "source": [
    "ipywidgets.link( (cp, 'value'), (islider.style, 'handle_color') )"
   ]
  },
  {
   "cell_type": "markdown",
   "metadata": {},
   "source": [
    "And let's see them both together:"
   ]
  },
  {
   "cell_type": "code",
   "execution_count": 49,
   "metadata": {},
   "outputs": [
    {
     "data": {
      "application/vnd.jupyter.widget-view+json": {
       "model_id": "dd3fe66b1bf44765ae8a2e48afcf4624",
       "version_major": 2,
       "version_minor": 0
      },
      "text/plain": [
       "VBox(children=(ColorPicker(value='black'), IntSlider(value=0, max=10, orientation='vertical', style=SliderStyl…"
      ]
     },
     "metadata": {},
     "output_type": "display_data"
    }
   ],
   "source": [
    "ipywidgets.VBox([cp, islider])"
   ]
  },
  {
   "cell_type": "markdown",
   "metadata": {},
   "source": [
    "But what is this `traitlets.traitlets` thing above that occurs when we use `link` instead of `jslink`?  I thought we were doing things with widgets!  Let's talk a bit about what `traitlets` are in Python."
   ]
  },
  {
   "cell_type": "markdown",
   "metadata": {},
   "source": [
    "## Traitlets \n",
    "\n",
    "Traitlets are a way to link the *change in a variable* to an action."
   ]
  },
  {
   "cell_type": "markdown",
   "metadata": {},
   "source": [
    "We'll start by making a class w/o using traitlets.  We've worked with classes before, just sort of \"under the radar\" like with Pandas objects.  Now we will define our own:"
   ]
  },
  {
   "cell_type": "code",
   "execution_count": 50,
   "metadata": {},
   "outputs": [],
   "source": [
    "class MyObject():\n",
    "    name = 'unnamed'\n",
    "    age = 0"
   ]
  },
  {
   "cell_type": "markdown",
   "metadata": {},
   "source": [
    "Let's define a new variable of this `class` type:"
   ]
  },
  {
   "cell_type": "code",
   "execution_count": 51,
   "metadata": {},
   "outputs": [],
   "source": [
    "my_obj = MyObject()"
   ]
  },
  {
   "cell_type": "code",
   "execution_count": 52,
   "metadata": {},
   "outputs": [
    {
     "data": {
      "text/plain": [
       "('unnamed', 0)"
      ]
     },
     "execution_count": 52,
     "metadata": {},
     "output_type": "execute_result"
    }
   ],
   "source": [
    "my_obj.name, my_obj.age"
   ]
  },
  {
   "cell_type": "markdown",
   "metadata": {},
   "source": [
    "We can update the values of these variables like we would any other object:"
   ]
  },
  {
   "cell_type": "code",
   "execution_count": 53,
   "metadata": {},
   "outputs": [],
   "source": [
    "my_obj.name = 'Bob'; my_obj.age = 47"
   ]
  },
  {
   "cell_type": "markdown",
   "metadata": {},
   "source": [
    "Now, let's check out our new values:"
   ]
  },
  {
   "cell_type": "code",
   "execution_count": 54,
   "metadata": {},
   "outputs": [
    {
     "name": "stdout",
     "output_type": "stream",
     "text": [
      "Hello, my name is: Bob and I am 47 years old\n"
     ]
    }
   ],
   "source": [
    "print('Hello, my name is:', my_obj.name, 'and I am', my_obj.age, 'years old')"
   ]
  },
  {
   "cell_type": "markdown",
   "metadata": {},
   "source": [
    "Now, let's say I wanted to re-set the values of the variables in my class -- to print out the above statement, I'd have to redo everything:"
   ]
  },
  {
   "cell_type": "code",
   "execution_count": 55,
   "metadata": {},
   "outputs": [],
   "source": [
    "my_obj.name = 'Linda'; my_obj.age = 45"
   ]
  },
  {
   "cell_type": "code",
   "execution_count": 56,
   "metadata": {},
   "outputs": [
    {
     "name": "stdout",
     "output_type": "stream",
     "text": [
      "Hello, my name is: Linda and I am 45 years old\n"
     ]
    }
   ],
   "source": [
    "print('Hello, my name is:', my_obj.name, 'and I am', my_obj.age, 'years old')"
   ]
  },
  {
   "cell_type": "markdown",
   "metadata": {},
   "source": [
    "The `traitlets` library allows us to \"track\" changes so that we can associate actions with updates to variables.  Let's try this example again:"
   ]
  },
  {
   "cell_type": "code",
   "execution_count": 57,
   "metadata": {},
   "outputs": [],
   "source": [
    "import traitlets"
   ]
  },
  {
   "cell_type": "code",
   "execution_count": 58,
   "metadata": {},
   "outputs": [],
   "source": [
    "class MyTraitletObject(traitlets.HasTraits):\n",
    "    # lets use the unicode trait to let our object have a name\n",
    "    name = traitlets.Unicode(\"unnamed\") \n",
    "    # lets also give our object an age\n",
    "    age = traitlets.Int(0)"
   ]
  },
  {
   "cell_type": "code",
   "execution_count": 59,
   "metadata": {},
   "outputs": [],
   "source": [
    "my_t_obj = MyTraitletObject()\n",
    "my_t_obj.age = 47\n",
    "my_t_obj.name = 'Bob'"
   ]
  },
  {
   "cell_type": "code",
   "execution_count": 60,
   "metadata": {},
   "outputs": [
    {
     "name": "stdout",
     "output_type": "stream",
     "text": [
      "Hello, my name is: Bob and I am 47 years old\n"
     ]
    }
   ],
   "source": [
    "print('Hello, my name is:', my_t_obj.name, 'and I am', my_t_obj.age, 'years old')"
   ]
  },
  {
   "cell_type": "markdown",
   "metadata": {},
   "source": [
    "So far this is not very exciting - we are back where we started!  However, there are options to \"observe\" changes in our traits:"
   ]
  },
  {
   "cell_type": "markdown",
   "metadata": {},
   "source": [
    "Let's create a function that can act on one of the variables of our variables, in particluar, its going to react to the name in my object:"
   ]
  },
  {
   "cell_type": "code",
   "execution_count": 61,
   "metadata": {},
   "outputs": [],
   "source": [
    "def name_changed(change):\n",
    "    print(change) # this is a format that is required of a traitlets class\n",
    "\n",
    "# lets tell traitlets that we are going to change something\n",
    "my_t_obj.observe(name_changed, ['name'])"
   ]
  },
  {
   "cell_type": "markdown",
   "metadata": {},
   "source": [
    "Now when we update, we get info about our update back:"
   ]
  },
  {
   "cell_type": "code",
   "execution_count": 62,
   "metadata": {},
   "outputs": [
    {
     "name": "stdout",
     "output_type": "stream",
     "text": [
      "{'name': 'name', 'old': 'Bob', 'new': 'Linda', 'owner': <__main__.MyTraitletObject object at 0x7f8fc8096210>, 'type': 'change'}\n"
     ]
    }
   ],
   "source": [
    "my_t_obj.name = 'Linda'"
   ]
  },
  {
   "cell_type": "markdown",
   "metadata": {},
   "source": [
    "We can see that there are these weird \"new\" and \"old\" names -- this is tracking how things change. The \"owner\" is just pointing to the memory location of `my_t_obj`."
   ]
  },
  {
   "cell_type": "markdown",
   "metadata": {},
   "source": [
    "Let's do something a little more exciting - have a default print-out of the introduction:"
   ]
  },
  {
   "cell_type": "code",
   "execution_count": 63,
   "metadata": {},
   "outputs": [],
   "source": [
    "def name_changed2(change):\n",
    "    print('Hello, my name is', change['new'], 'and I am', change['owner'].age, 'years old')\n",
    "\n",
    "# lets tell traitlets that we are going to change something\n",
    "my_t_obj.observe(name_changed2, ['name'])"
   ]
  },
  {
   "cell_type": "code",
   "execution_count": 64,
   "metadata": {},
   "outputs": [],
   "source": [
    "my_t_obj.name = 'Linda'"
   ]
  },
  {
   "cell_type": "markdown",
   "metadata": {},
   "source": [
    "Note that now, I've got *2* things associated with any changes -- let's take off the first one:"
   ]
  },
  {
   "cell_type": "code",
   "execution_count": 65,
   "metadata": {},
   "outputs": [],
   "source": [
    "my_t_obj.unobserve(name_changed, ['name'])"
   ]
  },
  {
   "cell_type": "code",
   "execution_count": 66,
   "metadata": {},
   "outputs": [
    {
     "name": "stdout",
     "output_type": "stream",
     "text": [
      "Hello, my name is Bob and I am 47 years old\n"
     ]
    }
   ],
   "source": [
    "my_t_obj.name = \"Bob\""
   ]
  },
  {
   "cell_type": "markdown",
   "metadata": {},
   "source": [
    "We can practice by making a \"watching for a change\" function for age as well:"
   ]
  },
  {
   "cell_type": "code",
   "execution_count": 67,
   "metadata": {},
   "outputs": [],
   "source": [
    "def age_changed(change):\n",
    "    print('Hello, my name is', change['owner'].name, 'and I am', change['new'], 'years old')\n",
    "\n",
    "my_t_obj.observe(age_changed, ['age'])"
   ]
  },
  {
   "cell_type": "code",
   "execution_count": 68,
   "metadata": {},
   "outputs": [
    {
     "name": "stdout",
     "output_type": "stream",
     "text": [
      "Hello, my name is Bob and I am 48 years old\n"
     ]
    }
   ],
   "source": [
    "my_t_obj.age = 48"
   ]
  },
  {
   "cell_type": "code",
   "execution_count": 69,
   "metadata": {},
   "outputs": [
    {
     "name": "stdout",
     "output_type": "stream",
     "text": [
      "Hello, my name is Louise and I am 48 years old\n",
      "Hello, my name is Louise and I am 8 years old\n"
     ]
    }
   ],
   "source": [
    "my_t_obj.name, my_t_obj.age = 'Louise', 8"
   ]
  },
  {
   "cell_type": "markdown",
   "metadata": {},
   "source": [
    "### #4. Michigan colormap and scale: with `interact`"
   ]
  },
  {
   "cell_type": "markdown",
   "metadata": {},
   "source": [
    "Let's go back to the Michigan dataset from last week.  First we read in and reshaped our dataset:"
   ]
  },
  {
   "cell_type": "code",
   "execution_count": 70,
   "metadata": {},
   "outputs": [],
   "source": [
    "mich_filename = '/Users/jillnaiman/Downloads/michigan_lld.flt'\n",
    "michigan = np.fromfile(mich_filename, dtype='f4').reshape((5365,4201))"
   ]
  },
  {
   "cell_type": "markdown",
   "metadata": {},
   "source": [
    "If we recall, we had to \"mask\" out the bad measurement at -9999:"
   ]
  },
  {
   "cell_type": "code",
   "execution_count": 71,
   "metadata": {},
   "outputs": [],
   "source": [
    "michigan[michigan==-9999] = np.nan"
   ]
  },
  {
   "cell_type": "markdown",
   "metadata": {},
   "source": [
    "... so that we could make a meaningful histogram:"
   ]
  },
  {
   "cell_type": "code",
   "execution_count": 72,
   "metadata": {},
   "outputs": [
    {
     "data": {
      "image/png": "[encoded data removed]",
      "text/plain": [
       "<Figure size 432x288 with 1 Axes>"
      ]
     },
     "metadata": {
      "needs_background": "light"
     },
     "output_type": "display_data"
    }
   ],
   "source": [
    "plt.hist(michigan[~np.isnan(michigan)])\n",
    "plt.show()"
   ]
  },
  {
   "cell_type": "markdown",
   "metadata": {},
   "source": [
    "We can take a quick look at our dataset:"
   ]
  },
  {
   "cell_type": "code",
   "execution_count": 73,
   "metadata": {},
   "outputs": [
    {
     "data": {
      "image/png": "[encoded data removed]",
      "text/plain": [
       "<Figure size 432x288 with 1 Axes>"
      ]
     },
     "metadata": {
      "needs_background": "light"
     },
     "output_type": "display_data"
    }
   ],
   "source": [
    "plt.imshow(michigan)\n",
    "plt.show()"
   ]
  },
  {
   "cell_type": "markdown",
   "metadata": {},
   "source": [
    "Neat!  We also talked a bit about some ways we could transform the color scale for our `imshow` call above:"
   ]
  },
  {
   "cell_type": "code",
   "execution_count": 74,
   "metadata": {},
   "outputs": [
    {
     "data": {
      "image/png": "[encoded data removed]",
      "text/plain": [
       "<Figure size 432x288 with 2 Axes>"
      ]
     },
     "metadata": {
      "needs_background": "light"
     },
     "output_type": "display_data"
    }
   ],
   "source": [
    "# for data color transformation\n",
    "import matplotlib.colors as mpl_colors\n",
    "\n",
    "plt.imshow(michigan, cmap=\"terrain\", norm = mpl_colors.SymLogNorm(10)) # symmetric log scaling\n",
    "plt.clim(-352,352) # symmetric about positive and negative heights\n",
    "plt.colorbar()\n",
    "plt.show()"
   ]
  },
  {
   "cell_type": "markdown",
   "metadata": {},
   "source": [
    "What is this `SymLogNorm` function?"
   ]
  },
  {
   "cell_type": "code",
   "execution_count": 75,
   "metadata": {},
   "outputs": [],
   "source": [
    "mpl_colors.SymLogNorm?"
   ]
  },
  {
   "cell_type": "code",
   "execution_count": 76,
   "metadata": {},
   "outputs": [
    {
     "data": {
      "text/plain": [
       "(array([0.     , 1.     , 1.69897]), array([0.     , 1.     , 1.69897]))"
      ]
     },
     "execution_count": 76,
     "metadata": {},
     "output_type": "execute_result"
    }
   ],
   "source": [
    "np.log10([1,10,50]),np.log10(np.abs([-1,-10,-50]))"
   ]
  },
  {
   "cell_type": "markdown",
   "metadata": {},
   "source": [
    "We see that 1 and 10 are mapped to a jump of 1 but 1->50 is mapped only to a jump of 0.7 instead of 40.\n",
    "\n",
    "One natural thing we might want to do is change color scheme and be able to toggle on and off the SymLogNorm color remapper.  We can do this 2 ways - by using our widget `@interact` decorator function again, and by explicitly laying out widgets.  Let's try to first way first:"
   ]
  },
  {
   "cell_type": "code",
   "execution_count": 77,
   "metadata": {},
   "outputs": [
    {
     "data": {
      "application/vnd.jupyter.widget-view+json": {
       "model_id": "6fd97da21deb41739b978089ecd5e8ec",
       "version_major": 2,
       "version_minor": 0
      },
      "text/plain": [
       "interactive(children=(Dropdown(description='colormap', index=154, options=('Accent', 'Accent_r', 'Blues', 'Blu…"
      ]
     },
     "metadata": {},
     "output_type": "display_data"
    }
   ],
   "source": [
    "@ipywidgets.interact(colormap = plt.colormaps(),\n",
    "                     sym_log=True)\n",
    "def plot(colormap = 'terrain', sym_log = True):\n",
    "    if sym_log:\n",
    "        norm = mpl_colors.SymLogNorm(10)\n",
    "    else:\n",
    "        norm = mpl_colors.Normalize()\n",
    "        \n",
    "    fig, ax = plt.subplots(figsize=(6,8))\n",
    "    # calling colorbar in a different way:\n",
    "    CAX = ax.imshow(michigan, cmap=colormap, norm = norm)\n",
    "    plt.colorbar(CAX, extend = 'both')\n",
    "    plt.show()"
   ]
  },
  {
   "cell_type": "markdown",
   "metadata": {},
   "source": [
    "**Bonus:**"
   ]
  },
  {
   "cell_type": "code",
   "execution_count": 78,
   "metadata": {},
   "outputs": [
    {
     "data": {
      "application/vnd.jupyter.widget-view+json": {
       "model_id": "07e413be5dec45678eac3addda52ef8a",
       "version_major": 2,
       "version_minor": 0
      },
      "text/plain": [
       "interactive(children=(Dropdown(description='colormap', index=154, options=('Accent', 'Accent_r', 'Blues', 'Blu…"
      ]
     },
     "metadata": {},
     "output_type": "display_data"
    }
   ],
   "source": [
    "@ipywidgets.interact(colormap = plt.colormaps(), color_range = (1.0, 352.0, 1.0), \n",
    "                     sym_log=True)\n",
    "def plot(colormap = 'terrain', color_range = 352, sym_log = True):\n",
    "    if sym_log:\n",
    "        norm = mpl_colors.SymLogNorm(10)\n",
    "    else:\n",
    "        norm = mpl_colors.Normalize()\n",
    "        \n",
    "    fig, ax = plt.subplots(figsize=(6,8))\n",
    "    # calling colorbar in a different way:\n",
    "    CAX = ax.imshow(michigan, cmap=colormap, norm = norm)\n",
    "    CAX.set_clim(-color_range, color_range)\n",
    "    plt.colorbar(CAX, extend = 'both')\n",
    "    plt.show()"
   ]
  },
  {
   "cell_type": "markdown",
   "metadata": {},
   "source": [
    "### #5. Michigan colormap and scale: Widget Placement by hand\n",
    "\n",
    "More info for `Output`: https://ipywidgets.readthedocs.io/en/latest/examples/Output%20Widget.html"
   ]
  },
  {
   "cell_type": "markdown",
   "metadata": {},
   "source": [
    "**Note:** If we are short on time, we might only get through the color-map-by-hand portion of this.\n",
    "\n",
    "We'll need a few extra functions to do this sort of thing \"by hand\":"
   ]
  },
  {
   "cell_type": "code",
   "execution_count": 79,
   "metadata": {},
   "outputs": [],
   "source": [
    "#plt.close('all')"
   ]
  },
  {
   "cell_type": "code",
   "execution_count": 80,
   "metadata": {},
   "outputs": [],
   "source": [
    "from IPython.display import display, clear_output\n",
    "%config InlineBackend.close_figures=False \n",
    "# If you get \"double\" displays over the next 2 cells, make sure you have this \"config\" statement there\n",
    "# This stops the auto-creation of figures until we say \"plt.show\" or \"display\"\n",
    "# Read more here: https://github.com/jupyter-widgets/ipywidgets/issues/1940"
   ]
  },
  {
   "cell_type": "code",
   "execution_count": 81,
   "metadata": {},
   "outputs": [
    {
     "data": {
      "application/vnd.jupyter.widget-view+json": {
       "model_id": "5cfedc582fbb440f8e154ef59be0e902",
       "version_major": 2,
       "version_minor": 0
      },
      "text/plain": [
       "Output()"
      ]
     },
     "metadata": {},
     "output_type": "display_data"
    },
    {
     "data": {
      "image/png": "[encoded data removed]",
      "text/plain": [
       "<Figure size 432x288 with 2 Axes>"
      ]
     },
     "metadata": {
      "needs_background": "light"
     },
     "output_type": "display_data"
    }
   ],
   "source": [
    "fig = plt.figure()\n",
    "# add axes by hand like last week\n",
    "# order here is: left, bottom, width, height\n",
    "plt.ioff()\n",
    "ax = fig.add_axes([0.0, 0.15, 1.0, 0.8]) \n",
    "\n",
    "image = ax.imshow(michigan, cmap='terrain')\n",
    "fig.colorbar(image, extend = 'both')\n",
    "\n",
    "out = ipywidgets.Output()  ### NEW WIDGET CALL\n",
    "display(out)"
   ]
  },
  {
   "cell_type": "markdown",
   "metadata": {},
   "source": [
    "The `Output` widget sort of \"captures\" the display until we explictly call it in context:"
   ]
  },
  {
   "cell_type": "code",
   "execution_count": 82,
   "metadata": {},
   "outputs": [],
   "source": [
    "with out:\n",
    "    display(fig)"
   ]
  },
  {
   "cell_type": "markdown",
   "metadata": {},
   "source": [
    "We use the `Layout` widget call, along with `figsize` in matplotlib to change the size of our image:"
   ]
  },
  {
   "cell_type": "code",
   "execution_count": 83,
   "metadata": {},
   "outputs": [
    {
     "data": {
      "application/vnd.jupyter.widget-view+json": {
       "model_id": "cec18a8343944f53b92e7c097f6d854b",
       "version_major": 2,
       "version_minor": 0
      },
      "text/plain": [
       "Output(layout=Layout(height='500px', width='500px'))"
      ]
     },
     "metadata": {},
     "output_type": "display_data"
    }
   ],
   "source": [
    "fig = plt.figure(figsize=(8,8))\n",
    "# add axes by hand like last week\n",
    "# order here is: left, bottom, width, height\n",
    "ax = fig.add_axes([0.0, 0.15, 1.0, 0.8]) \n",
    "\n",
    "image = ax.imshow(michigan, cmap='terrain')\n",
    "fig.colorbar(image, extend = 'both')\n",
    "\n",
    "#del out\n",
    "out = ipywidgets.Output(layout=ipywidgets.Layout(height='500px', width = '500px'))  ### NEW WIDGET CALL\n",
    "display(out) # hold our output...\n",
    "\n",
    "with out: # until we explicitly say display!\n",
    "    display(fig) # only display the fig when we explitly say to!"
   ]
  },
  {
   "cell_type": "markdown",
   "metadata": {},
   "source": [
    "Why would we bother making our lives more complicated like this instead of just using `@interact` like we did before?  So that we can start placing our widgets where we want and start to have a little more control over what we are displaying and how.  For example, let's add a dropdown menu by hand:"
   ]
  },
  {
   "cell_type": "code",
   "execution_count": 84,
   "metadata": {},
   "outputs": [],
   "source": [
    "dropdown = ipywidgets.Dropdown(options=plt.colormaps())"
   ]
  },
  {
   "cell_type": "code",
   "execution_count": 85,
   "metadata": {},
   "outputs": [
    {
     "data": {
      "text/plain": [
       "['_dom_classes',\n",
       " '_model_module',\n",
       " '_model_module_version',\n",
       " '_model_name',\n",
       " '_options_labels',\n",
       " '_view_count',\n",
       " '_view_module',\n",
       " '_view_module_version',\n",
       " '_view_name',\n",
       " 'description',\n",
       " 'description_tooltip',\n",
       " 'disabled',\n",
       " 'index',\n",
       " 'layout',\n",
       " 'style']"
      ]
     },
     "execution_count": 85,
     "metadata": {},
     "output_type": "execute_result"
    }
   ],
   "source": [
    "dropdown.keys"
   ]
  },
  {
   "cell_type": "markdown",
   "metadata": {},
   "source": [
    "`dropdown.index` gives us the # of the color map from `plt.colormaps()`.  Let's add this in:"
   ]
  },
  {
   "cell_type": "code",
   "execution_count": 86,
   "metadata": {},
   "outputs": [
    {
     "data": {
      "application/vnd.jupyter.widget-view+json": {
       "model_id": "91d2431ae97b465684398a184f808bf4",
       "version_major": 2,
       "version_minor": 0
      },
      "text/plain": [
       "HBox(children=(Output(layout=Layout(height='500px', width='500px')), Dropdown(options=('Accent', 'Accent_r', '…"
      ]
     },
     "metadata": {},
     "output_type": "display_data"
    }
   ],
   "source": [
    "fig = plt.figure(figsize=(8,8))\n",
    "# add axes by hand like last week\n",
    "# order here is: left, bottom, width, height\n",
    "ax = fig.add_axes([0.0, 0.15, 1.0, 0.8]) \n",
    "\n",
    "image = ax.imshow(michigan, cmap='terrain')\n",
    "fig.colorbar(image, extend = 'both')\n",
    "\n",
    "#del out\n",
    "out = ipywidgets.Output(layout=ipywidgets.Layout(height='500px', width = '500px'))\n",
    "dropdown = ipywidgets.Dropdown(options=plt.colormaps())\n",
    "\n",
    "hbox=ipywidgets.HBox([out, dropdown])\n",
    "\n",
    "display(hbox)\n",
    "with out:\n",
    "    display(fig)"
   ]
  },
  {
   "cell_type": "markdown",
   "metadata": {},
   "source": [
    "So now we can start placing our interactive widgets how we want!  Note that if update the dropdown, nothing happens because its not connected to the plot anyway.  Let's work on connecting our dropdown menu to our plot using an `.observe` traitlets call:"
   ]
  },
  {
   "cell_type": "code",
   "execution_count": 87,
   "metadata": {},
   "outputs": [
    {
     "data": {
      "application/vnd.jupyter.widget-view+json": {
       "model_id": "6e3ec744017a49ff9bfb8ee64c9b671e",
       "version_major": 2,
       "version_minor": 0
      },
      "text/plain": [
       "HBox(children=(Output(layout=Layout(height='500px', width='500px')), Dropdown(options=('Accent', 'Accent_r', '…"
      ]
     },
     "metadata": {},
     "output_type": "display_data"
    }
   ],
   "source": [
    "fig = plt.figure(figsize=(8,8))\n",
    "# add axes by hand like last week\n",
    "# order here is: left, bottom, width, height\n",
    "ax = fig.add_axes([0.0, 0.15, 1.0, 0.8]) \n",
    "\n",
    "image = ax.imshow(michigan, cmap='terrain')\n",
    "fig.colorbar(image, extend = 'both')\n",
    "\n",
    "#del out\n",
    "out = ipywidgets.Output(layout=ipywidgets.Layout(height='500px', width = '500px'))\n",
    "dropdown = ipywidgets.Dropdown(options=plt.colormaps())\n",
    "\n",
    "hbox=ipywidgets.HBox([out, dropdown])\n",
    "\n",
    "display(hbox)\n",
    "#with out:\n",
    "#    display(fig)\n",
    "\n",
    "def updateDropdown(change):\n",
    "    print(change) # first just print\n",
    "\n",
    "    with out:\n",
    "        clear_output(wait=True) # clear everything on the display - don't keep making figures!\n",
    "        display(fig)\n",
    "        \n",
    "dropdown.observe(updateDropdown)\n"
   ]
  },
  {
   "cell_type": "markdown",
   "metadata": {},
   "source": [
    "Let's use `change['owner'].index` to grab the index of the colormap we want:"
   ]
  },
  {
   "cell_type": "code",
   "execution_count": 88,
   "metadata": {},
   "outputs": [
    {
     "data": {
      "application/vnd.jupyter.widget-view+json": {
       "model_id": "dd946f1ce444414abeeb6c3bccc042ac",
       "version_major": 2,
       "version_minor": 0
      },
      "text/plain": [
       "HBox(children=(Output(layout=Layout(height='500px', width='500px')), Dropdown(options=('Accent', 'Accent_r', '…"
      ]
     },
     "metadata": {},
     "output_type": "display_data"
    }
   ],
   "source": [
    "fig = plt.figure(figsize=(8,8))\n",
    "# add axes by hand like last week\n",
    "# order here is: left, bottom, width, height\n",
    "ax = fig.add_axes([0.0, 0.15, 1.0, 0.8]) \n",
    "\n",
    "image = ax.imshow(michigan, cmap='terrain')\n",
    "fig.colorbar(image, extend = 'both')\n",
    "\n",
    "out = ipywidgets.Output(layout=ipywidgets.Layout(height='500px', width = '500px'))\n",
    "dropdown = ipywidgets.Dropdown(options=plt.colormaps())\n",
    "\n",
    "hbox=ipywidgets.HBox([out, dropdown])\n",
    "\n",
    "display(hbox)\n",
    "\n",
    "def updateDropdown(change):\n",
    "    cmap=plt.colormaps()[change['owner'].index] # grab our new cmap\n",
    "    # let's start by clearing out all our previous axes and starting with a fresh canvas\n",
    "    for a in fig.axes:\n",
    "        fig.delaxes(a)\n",
    "        \n",
    "    # draw on our axes like before\n",
    "    ax = fig.add_axes([0.0, 0.15, 1.0, 0.8]) \n",
    "    # make an image and assign a color map\n",
    "    image = ax.imshow(michigan, cmap=cmap)\n",
    "    fig.colorbar(image, extend = 'both')\n",
    "\n",
    "    # display with an output widget\n",
    "    with out:\n",
    "        clear_output(wait=True) # clear everything on the display - don't keep making figures!\n",
    "        display(fig)\n",
    "        \n",
    "dropdown.observe(updateDropdown)\n"
   ]
  },
  {
   "cell_type": "markdown",
   "metadata": {},
   "source": [
    "So, it's a little annoying that we have to wait to select something to display, so let's reorganize our function a bit to make it look nice:"
   ]
  },
  {
   "cell_type": "code",
   "execution_count": 89,
   "metadata": {},
   "outputs": [
    {
     "data": {
      "application/vnd.jupyter.widget-view+json": {
       "model_id": "458c4f0a11f1492990b684a6d45ab657",
       "version_major": 2,
       "version_minor": 0
      },
      "text/plain": [
       "HBox(children=(Output(layout=Layout(height='500px', width='500px')), Dropdown(options=('Accent', 'Accent_r', '…"
      ]
     },
     "metadata": {},
     "output_type": "display_data"
    }
   ],
   "source": [
    "#plt.close('all') # if you get a \"too many figures open\" warning\n",
    "fig = plt.figure(figsize=(8,8))\n",
    "# add axes by hand like last week\n",
    "# order here is: left, bottom, width, height\n",
    "ax = fig.add_axes([0.0, 0.15, 1.0, 0.8]) \n",
    "\n",
    "image = ax.imshow(michigan, cmap='terrain')\n",
    "fig.colorbar(image, extend = 'both')\n",
    "\n",
    "out = ipywidgets.Output(layout=ipywidgets.Layout(height='500px', width = '500px'))\n",
    "dropdown = ipywidgets.Dropdown(options=plt.colormaps())\n",
    "\n",
    "hbox=ipywidgets.HBox([out, dropdown])\n",
    "\n",
    "display(hbox)\n",
    "\n",
    "def updateDropdown(change):\n",
    "    if change is not None:\n",
    "        cmap=plt.colormaps()[change['owner'].index]\n",
    "        for a in fig.axes:\n",
    "            fig.delaxes(a)\n",
    "        ax = fig.add_axes([0.0, 0.15, 1.0, 0.8]) \n",
    "\n",
    "        image = ax.imshow(michigan, cmap=cmap)\n",
    "        fig.colorbar(image, extend = 'both')\n",
    "\n",
    "    with out:\n",
    "        clear_output(wait=True)\n",
    "        display(fig)\n",
    "        \n",
    "dropdown.observe(updateDropdown)\n",
    "\n",
    "updateDropdown(None)"
   ]
  },
  {
   "cell_type": "markdown",
   "metadata": {},
   "source": [
    "Let's keep going and add in our toggle box!"
   ]
  },
  {
   "cell_type": "code",
   "execution_count": 90,
   "metadata": {},
   "outputs": [
    {
     "data": {
      "application/vnd.jupyter.widget-view+json": {
       "model_id": "7c8b9f10c9874619bf1476250798799e",
       "version_major": 2,
       "version_minor": 0
      },
      "text/plain": [
       "HBox(children=(Output(layout=Layout(height='500px', width='500px')), VBox(children=(Dropdown(index=154, option…"
      ]
     },
     "metadata": {},
     "output_type": "display_data"
    }
   ],
   "source": [
    "plt.close('all') # if you get a \"too many figures open\" warning\n",
    "fig = plt.figure(figsize=(8,8))\n",
    "# add axes by hand like last week\n",
    "# order here is: left, bottom, width, height\n",
    "ax = fig.add_axes([0.0, 0.15, 1.0, 0.8]) \n",
    "\n",
    "image = ax.imshow(michigan, cmap='terrain')\n",
    "fig.colorbar(image, extend = 'both')\n",
    "\n",
    "out = ipywidgets.Output(layout=ipywidgets.Layout(height='500px', width = '500px'))\n",
    "#dropdown = ipywidgets.Dropdown(options=plt.colormaps())\n",
    "\n",
    "# just so that we can start with 'terrain'\n",
    "dropdown = ipywidgets.Dropdown(options=plt.colormaps(), index=plt.colormaps().index('terrain'))\n",
    "toggleButton = ipywidgets.ToggleButton(value=False,description='Log Norm?')\n",
    "\n",
    "controls = ipywidgets.VBox([dropdown, toggleButton])\n",
    "hbox=ipywidgets.HBox([out, controls])\n",
    "\n",
    "display(hbox)\n",
    "\n",
    "# (2) update figure based on toggle on/off\n",
    "def updateToggle(change):\n",
    "    if change is not None:\n",
    "        #print(change)\n",
    "        #print(change['owner'])\n",
    "        #print(change['owner'].value)\n",
    "        \n",
    "        # grab base colormap from other widget\n",
    "        cmap=plt.colormaps()[dropdown.index]\n",
    "        for a in fig.axes:\n",
    "            fig.delaxes(a)\n",
    "        ax = fig.add_axes([0.0, 0.15, 1.0, 0.8]) \n",
    "        \n",
    "        # pick norm based on toggle button\n",
    "        if change['owner'].value:\n",
    "            norm = mpl_colors.SymLogNorm(10)\n",
    "        else:\n",
    "            norm = mpl_colors.Normalize()\n",
    "\n",
    "        image = ax.imshow(michigan, cmap=cmap, norm=norm)\n",
    "        fig.colorbar(image, extend = 'both')\n",
    "\n",
    "    with out:\n",
    "        clear_output(wait=True)\n",
    "        display(fig)     \n",
    "toggleButton.observe(updateToggle)\n",
    "\n",
    "\n",
    "# (1) update figure based on dropdown\n",
    "# AND MAKE SURE WE ADD IN RESULTS OF TOGGLE BUTTON!\n",
    "def updateDropdown(change):\n",
    "    if change is not None:\n",
    "        cmap=plt.colormaps()[change['owner'].index]\n",
    "        for a in fig.axes:\n",
    "            fig.delaxes(a)\n",
    "        ax = fig.add_axes([0.0, 0.15, 1.0, 0.8]) \n",
    "        \n",
    "        # pick norm based on toggle button\n",
    "        if toggleButton.value:\n",
    "            norm = mpl_colors.SymLogNorm(10)\n",
    "        else:\n",
    "            norm = mpl_colors.Normalize()\n",
    "\n",
    "        image = ax.imshow(michigan, cmap=cmap, norm=norm)\n",
    "        fig.colorbar(image, extend = 'both')\n",
    "\n",
    "    with out:\n",
    "        clear_output(wait=True)\n",
    "        display(fig)     \n",
    "dropdown.observe(updateDropdown)\n",
    "\n",
    "\n",
    "updateDropdown(None)\n",
    "updateToggle(None)"
   ]
  },
  {
   "cell_type": "markdown",
   "metadata": {},
   "source": [
    "Finally, note that we can now move around each widget individually on our plot:"
   ]
  },
  {
   "cell_type": "code",
   "execution_count": 91,
   "metadata": {
    "scrolled": false
   },
   "outputs": [
    {
     "data": {
      "application/vnd.jupyter.widget-view+json": {
       "model_id": "78b10677d1ab4bb489fe849f22384134",
       "version_major": 2,
       "version_minor": 0
      },
      "text/plain": [
       "HBox(children=(Output(layout=Layout(height='500px', width='500px')), VBox(children=(Dropdown(index=154, option…"
      ]
     },
     "metadata": {},
     "output_type": "display_data"
    }
   ],
   "source": [
    "plt.close('all') # if you get a \"too many figures open\" warning\n",
    "fig = plt.figure(figsize=(8,8))\n",
    "# add axes by hand like last week\n",
    "# order here is: left, bottom, width, height\n",
    "ax = fig.add_axes([0.0, 0.15, 1.0, 0.8]) \n",
    "\n",
    "image = ax.imshow(michigan, cmap='terrain')\n",
    "fig.colorbar(image, extend = 'both')\n",
    "\n",
    "out = ipywidgets.Output(layout=ipywidgets.Layout(height='500px', width = '500px'))\n",
    "#dropdown = ipywidgets.Dropdown(options=plt.colormaps())\n",
    "\n",
    "# just so that we can start with 'terrain'\n",
    "dropdown = ipywidgets.Dropdown(options=plt.colormaps(), index=plt.colormaps().index('terrain'))\n",
    "toggleButton = ipywidgets.ToggleButton(value=False,description='Log Norm?')\n",
    "\n",
    "controls = ipywidgets.VBox([dropdown, toggleButton])\n",
    "controls.layout.top = '200px' # UPDATED\n",
    "hbox=ipywidgets.HBox([out, controls])\n",
    "\n",
    "display(hbox)\n",
    "\n",
    "# (2) update figure based on toggle on/off\n",
    "def updateToggle(change):\n",
    "    if change is not None:\n",
    "        \n",
    "        # grab base colormap from other widget\n",
    "        cmap=plt.colormaps()[dropdown.index]\n",
    "        for a in fig.axes:\n",
    "            fig.delaxes(a)\n",
    "        ax = fig.add_axes([0.0, 0.15, 1.0, 0.8]) \n",
    "        \n",
    "        # pick norm based on toggle button\n",
    "        if change['owner'].value:\n",
    "            norm = mpl_colors.SymLogNorm(10)\n",
    "        else:\n",
    "            norm = mpl_colors.Normalize()\n",
    "\n",
    "        image = ax.imshow(michigan, cmap=cmap, norm=norm)\n",
    "        fig.colorbar(image, extend = 'both')\n",
    "\n",
    "    with out:\n",
    "        clear_output(wait=True)\n",
    "        display(fig)     \n",
    "toggleButton.observe(updateToggle)\n",
    "\n",
    "\n",
    "# (1) update figure based on dropdown\n",
    "# AND MAKE SURE WE ADD IN RESULTS OF TOGGLE BUTTON!\n",
    "def updateDropdown(change):\n",
    "    if change is not None:\n",
    "        cmap=plt.colormaps()[change['owner'].index]\n",
    "        for a in fig.axes:\n",
    "            fig.delaxes(a)\n",
    "        ax = fig.add_axes([0.0, 0.15, 1.0, 0.8]) \n",
    "        \n",
    "        # pick norm based on toggle button\n",
    "        if toggleButton.value:\n",
    "            norm = mpl_colors.SymLogNorm(10)\n",
    "        else:\n",
    "            norm = mpl_colors.Normalize()\n",
    "\n",
    "        image = ax.imshow(michigan, cmap=cmap, norm=norm)\n",
    "        fig.colorbar(image, extend = 'both')\n",
    "\n",
    "    with out:\n",
    "        clear_output(wait=True)\n",
    "        display(fig)     \n",
    "dropdown.observe(updateDropdown)\n",
    "\n",
    "\n",
    "updateDropdown(None)\n",
    "updateToggle(None)"
   ]
  },
  {
   "cell_type": "markdown",
   "metadata": {},
   "source": [
    "This seems a lot more complicated: why would we bother?\n",
    "\n",
    "1. You don't have to if you don't want to! (At least for this week...)\n",
    "1. It gives us finer-grained control over where to place things when we start building up multi-panel dashboards.\n",
    "\n",
    "Taking some time to understand widgets in this context will help you design custom dashboards for your analysis & visualization needs. \n",
    "\n",
    "`bqplot`, which we will use next week, uses this sort of layout options to link figures with widgets, but makes this sort of design a lot easier then what we just did!"
   ]
  },
  {
   "cell_type": "markdown",
   "metadata": {},
   "source": [
    "# For the Homework this week: The UFO dataset"
   ]
  },
  {
   "cell_type": "markdown",
   "metadata": {},
   "source": [
    "Make sure you have this dataset downloaded from: https://uiuc-ischool-dataviz.github.io/spring2019online/week04/data/ufo-scrubbed-geocoded-time-standardized-00.csv"
   ]
  },
  {
   "cell_type": "markdown",
   "metadata": {},
   "source": [
    "You will be using this dataset for your HW so we will read it in and take a quick look.  The rest of the class is messing around with this dataset!"
   ]
  },
  {
   "cell_type": "markdown",
   "metadata": {},
   "source": [
    "Reading in the UFO dataset:"
   ]
  },
  {
   "cell_type": "code",
   "execution_count": 92,
   "metadata": {},
   "outputs": [],
   "source": [
    "import pandas as pd\n",
    "\n",
    "ufos = pd.read_csv(\"/Users/jillnaiman/Downloads/ufo-scrubbed-geocoded-time-standardized-00.csv\",\n",
    "                  names = [\"date\", \"city\", \"state\", \"country\",\n",
    "                          \"shape\", \"duration_seconds\", \"duration\",\n",
    "                          \"comment\", \"report_date\", \"latitude\", \"longitude\"],\n",
    "                  parse_dates = [\"date\", \"report_date\"])\n",
    "\n",
    "# you might get a memory warning thing, its just not deprecated correctly\n",
    "#  try not to panic :D\n"
   ]
  },
  {
   "cell_type": "code",
   "execution_count": 93,
   "metadata": {},
   "outputs": [
    {
     "data": {
      "text/html": [
       "<div>\n",
       "<style scoped>\n",
       "    .dataframe tbody tr th:only-of-type {\n",
       "        vertical-align: middle;\n",
       "    }\n",
       "\n",
       "    .dataframe tbody tr th {\n",
       "        vertical-align: top;\n",
       "    }\n",
       "\n",
       "    .dataframe thead th {\n",
       "        text-align: right;\n",
       "    }\n",
       "</style>\n",
       "<table border=\"1\" class=\"dataframe\">\n",
       "  <thead>\n",
       "    <tr style=\"text-align: right;\">\n",
       "      <th></th>\n",
       "      <th>date</th>\n",
       "      <th>city</th>\n",
       "      <th>state</th>\n",
       "      <th>country</th>\n",
       "      <th>shape</th>\n",
       "      <th>duration_seconds</th>\n",
       "      <th>duration</th>\n",
       "      <th>comment</th>\n",
       "      <th>report_date</th>\n",
       "      <th>latitude</th>\n",
       "      <th>longitude</th>\n",
       "    </tr>\n",
       "  </thead>\n",
       "  <tbody>\n",
       "    <tr>\n",
       "      <th>0</th>\n",
       "      <td>1949-10-10 20:30:00</td>\n",
       "      <td>san marcos</td>\n",
       "      <td>tx</td>\n",
       "      <td>us</td>\n",
       "      <td>cylinder</td>\n",
       "      <td>2700.0</td>\n",
       "      <td>45 minutes</td>\n",
       "      <td>This event took place in early fall around 194...</td>\n",
       "      <td>2004-04-27</td>\n",
       "      <td>29.883056</td>\n",
       "      <td>-97.941111</td>\n",
       "    </tr>\n",
       "    <tr>\n",
       "      <th>1</th>\n",
       "      <td>1949-10-10 21:00:00</td>\n",
       "      <td>lackland afb</td>\n",
       "      <td>tx</td>\n",
       "      <td>NaN</td>\n",
       "      <td>light</td>\n",
       "      <td>7200.0</td>\n",
       "      <td>1-2 hrs</td>\n",
       "      <td>1949 Lackland AFB&amp;#44 TX.  Lights racing acros...</td>\n",
       "      <td>2005-12-16</td>\n",
       "      <td>29.384210</td>\n",
       "      <td>-98.581082</td>\n",
       "    </tr>\n",
       "    <tr>\n",
       "      <th>2</th>\n",
       "      <td>1955-10-10 17:00:00</td>\n",
       "      <td>chester (uk/england)</td>\n",
       "      <td>NaN</td>\n",
       "      <td>gb</td>\n",
       "      <td>circle</td>\n",
       "      <td>20.0</td>\n",
       "      <td>20 seconds</td>\n",
       "      <td>Green/Orange circular disc over Chester&amp;#44 En...</td>\n",
       "      <td>2008-01-21</td>\n",
       "      <td>53.200000</td>\n",
       "      <td>-2.916667</td>\n",
       "    </tr>\n",
       "    <tr>\n",
       "      <th>3</th>\n",
       "      <td>1956-10-10 21:00:00</td>\n",
       "      <td>edna</td>\n",
       "      <td>tx</td>\n",
       "      <td>us</td>\n",
       "      <td>circle</td>\n",
       "      <td>20.0</td>\n",
       "      <td>1/2 hour</td>\n",
       "      <td>My older brother and twin sister were leaving ...</td>\n",
       "      <td>2004-01-17</td>\n",
       "      <td>28.978333</td>\n",
       "      <td>-96.645833</td>\n",
       "    </tr>\n",
       "    <tr>\n",
       "      <th>4</th>\n",
       "      <td>1960-10-10 20:00:00</td>\n",
       "      <td>kaneohe</td>\n",
       "      <td>hi</td>\n",
       "      <td>us</td>\n",
       "      <td>light</td>\n",
       "      <td>900.0</td>\n",
       "      <td>15 minutes</td>\n",
       "      <td>AS a Marine 1st Lt. flying an FJ4B fighter/att...</td>\n",
       "      <td>2004-01-22</td>\n",
       "      <td>21.418056</td>\n",
       "      <td>-157.803611</td>\n",
       "    </tr>\n",
       "    <tr>\n",
       "      <th>...</th>\n",
       "      <td>...</td>\n",
       "      <td>...</td>\n",
       "      <td>...</td>\n",
       "      <td>...</td>\n",
       "      <td>...</td>\n",
       "      <td>...</td>\n",
       "      <td>...</td>\n",
       "      <td>...</td>\n",
       "      <td>...</td>\n",
       "      <td>...</td>\n",
       "      <td>...</td>\n",
       "    </tr>\n",
       "    <tr>\n",
       "      <th>80327</th>\n",
       "      <td>2013-09-09 21:15:00</td>\n",
       "      <td>nashville</td>\n",
       "      <td>tn</td>\n",
       "      <td>us</td>\n",
       "      <td>light</td>\n",
       "      <td>600.0</td>\n",
       "      <td>10 minutes</td>\n",
       "      <td>Round from the distance/slowly changing colors...</td>\n",
       "      <td>2013-09-30</td>\n",
       "      <td>36.165833</td>\n",
       "      <td>-86.784444</td>\n",
       "    </tr>\n",
       "    <tr>\n",
       "      <th>80328</th>\n",
       "      <td>2013-09-09 22:00:00</td>\n",
       "      <td>boise</td>\n",
       "      <td>id</td>\n",
       "      <td>us</td>\n",
       "      <td>circle</td>\n",
       "      <td>1200.0</td>\n",
       "      <td>20 minutes</td>\n",
       "      <td>Boise&amp;#44 ID&amp;#44 spherical&amp;#44 20 min&amp;#44 10 r...</td>\n",
       "      <td>2013-09-30</td>\n",
       "      <td>43.613611</td>\n",
       "      <td>-116.202500</td>\n",
       "    </tr>\n",
       "    <tr>\n",
       "      <th>80329</th>\n",
       "      <td>2013-09-09 22:00:00</td>\n",
       "      <td>napa</td>\n",
       "      <td>ca</td>\n",
       "      <td>us</td>\n",
       "      <td>other</td>\n",
       "      <td>1200.0</td>\n",
       "      <td>hour</td>\n",
       "      <td>Napa UFO&amp;#44</td>\n",
       "      <td>2013-09-30</td>\n",
       "      <td>38.297222</td>\n",
       "      <td>-122.284444</td>\n",
       "    </tr>\n",
       "    <tr>\n",
       "      <th>80330</th>\n",
       "      <td>2013-09-09 22:20:00</td>\n",
       "      <td>vienna</td>\n",
       "      <td>va</td>\n",
       "      <td>us</td>\n",
       "      <td>circle</td>\n",
       "      <td>5.0</td>\n",
       "      <td>5 seconds</td>\n",
       "      <td>Saw a five gold lit cicular craft moving fastl...</td>\n",
       "      <td>2013-09-30</td>\n",
       "      <td>38.901111</td>\n",
       "      <td>-77.265556</td>\n",
       "    </tr>\n",
       "    <tr>\n",
       "      <th>80331</th>\n",
       "      <td>2013-09-09 23:00:00</td>\n",
       "      <td>edmond</td>\n",
       "      <td>ok</td>\n",
       "      <td>us</td>\n",
       "      <td>cigar</td>\n",
       "      <td>1020.0</td>\n",
       "      <td>17 minutes</td>\n",
       "      <td>2 witnesses 2  miles apart&amp;#44 Red &amp;amp; White...</td>\n",
       "      <td>2013-09-30</td>\n",
       "      <td>35.652778</td>\n",
       "      <td>-97.477778</td>\n",
       "    </tr>\n",
       "  </tbody>\n",
       "</table>\n",
       "<p>80332 rows × 11 columns</p>\n",
       "</div>"
      ],
      "text/plain": [
       "                     date                  city state country     shape  \\\n",
       "0     1949-10-10 20:30:00            san marcos    tx      us  cylinder   \n",
       "1     1949-10-10 21:00:00          lackland afb    tx     NaN     light   \n",
       "2     1955-10-10 17:00:00  chester (uk/england)   NaN      gb    circle   \n",
       "3     1956-10-10 21:00:00                  edna    tx      us    circle   \n",
       "4     1960-10-10 20:00:00               kaneohe    hi      us     light   \n",
       "...                   ...                   ...   ...     ...       ...   \n",
       "80327 2013-09-09 21:15:00             nashville    tn      us     light   \n",
       "80328 2013-09-09 22:00:00                 boise    id      us    circle   \n",
       "80329 2013-09-09 22:00:00                  napa    ca      us     other   \n",
       "80330 2013-09-09 22:20:00                vienna    va      us    circle   \n",
       "80331 2013-09-09 23:00:00                edmond    ok      us     cigar   \n",
       "\n",
       "       duration_seconds    duration  \\\n",
       "0                2700.0  45 minutes   \n",
       "1                7200.0     1-2 hrs   \n",
       "2                  20.0  20 seconds   \n",
       "3                  20.0    1/2 hour   \n",
       "4                 900.0  15 minutes   \n",
       "...                 ...         ...   \n",
       "80327             600.0  10 minutes   \n",
       "80328            1200.0  20 minutes   \n",
       "80329            1200.0        hour   \n",
       "80330               5.0   5 seconds   \n",
       "80331            1020.0  17 minutes   \n",
       "\n",
       "                                                 comment report_date  \\\n",
       "0      This event took place in early fall around 194...  2004-04-27   \n",
       "1      1949 Lackland AFB&#44 TX.  Lights racing acros...  2005-12-16   \n",
       "2      Green/Orange circular disc over Chester&#44 En...  2008-01-21   \n",
       "3      My older brother and twin sister were leaving ...  2004-01-17   \n",
       "4      AS a Marine 1st Lt. flying an FJ4B fighter/att...  2004-01-22   \n",
       "...                                                  ...         ...   \n",
       "80327  Round from the distance/slowly changing colors...  2013-09-30   \n",
       "80328  Boise&#44 ID&#44 spherical&#44 20 min&#44 10 r...  2013-09-30   \n",
       "80329                                       Napa UFO&#44  2013-09-30   \n",
       "80330  Saw a five gold lit cicular craft moving fastl...  2013-09-30   \n",
       "80331  2 witnesses 2  miles apart&#44 Red &amp; White...  2013-09-30   \n",
       "\n",
       "        latitude   longitude  \n",
       "0      29.883056  -97.941111  \n",
       "1      29.384210  -98.581082  \n",
       "2      53.200000   -2.916667  \n",
       "3      28.978333  -96.645833  \n",
       "4      21.418056 -157.803611  \n",
       "...          ...         ...  \n",
       "80327  36.165833  -86.784444  \n",
       "80328  43.613611 -116.202500  \n",
       "80329  38.297222 -122.284444  \n",
       "80330  38.901111  -77.265556  \n",
       "80331  35.652778  -97.477778  \n",
       "\n",
       "[80332 rows x 11 columns]"
      ]
     },
     "execution_count": 93,
     "metadata": {},
     "output_type": "execute_result"
    }
   ],
   "source": [
    "ufos"
   ]
  },
  {
   "cell_type": "markdown",
   "metadata": {},
   "source": [
    "One thing we might want to do is notice that there are a lot of NaN's and we might want to replace them with some placeholders for the time being.  Ideally, we'd want to see if we can clean them better (i.e. state='TX' probably means country = 'us')."
   ]
  },
  {
   "cell_type": "code",
   "execution_count": 94,
   "metadata": {},
   "outputs": [],
   "source": [
    "ufos = ufos.fillna({'country':'unknown', 'state': 'unknown', 'shape':'unknown'})"
   ]
  },
  {
   "cell_type": "markdown",
   "metadata": {},
   "source": [
    "Second thing to notice, is this is a pretty darn big dataset!  This can get a little cumbersome if you want to be able to do some quick prototyping of visualizations.  \n",
    "\n",
    "Depending on what sort of computer you are working on, you may want to consider working with a *random subset* of this dataframe for your \"prototyping\" phase, and then only use the full dataset when you are ready for *production*:"
   ]
  },
  {
   "cell_type": "code",
   "execution_count": 95,
   "metadata": {},
   "outputs": [
    {
     "data": {
      "text/plain": [
       "array([75771, 78154, 47812, 37753, 20880, 47305, 19173, 45467, 44039,\n",
       "       10039, 26262, 48358, 35041, 79918, 36310, 14056, 29192,  5880,\n",
       "       67637, 27105, 56227, 20154, 40519, 18329, 45556, 75311, 16702,\n",
       "         496, 78407, 40858, 57217,  8613, 11122, 60365, 31159, 49184,\n",
       "       54716, 36779,  4996, 42000,  3978, 55807, 58243, 43368, 50034,\n",
       "       26557, 59171, 20591, 20411,  3676, 13225,  8688, 70165, 20543,\n",
       "       38592,  9656, 69022, 78859, 44456, 25661, 25869, 64845, 30326,\n",
       "       71157, 51275, 58843, 35006, 14103,  4564, 33390, 36189,  1156,\n",
       "       71256, 28503, 59091, 18011, 13215, 35129, 18553, 38414, 28781,\n",
       "        1149, 39076, 19936, 56420, 69026,  6842, 45170, 13816, 37572,\n",
       "        7431, 65828, 39870, 32511, 52044, 13849, 61204,  6674, 59738,\n",
       "       30263, 31932, 76611, 21358, 50112, 24703, 68941, 78314, 17268,\n",
       "       44027,   828, 31301, 61042, 16078, 29081, 78855, 78276, 51796,\n",
       "       64162, 76846, 42333, 52475, 76399, 61714, 61001, 62229, 22609,\n",
       "       22849, 23575, 54028, 10444, 59607, 17992, 41231, 56215, 11253,\n",
       "       36863, 58477,  5938, 76030, 24182, 58836, 48422, 17072, 26284,\n",
       "       58822, 17528,  9595, 58965, 57745, 56512, 23309, 18776, 74042,\n",
       "       42810, 59129, 41806, 32187, 75498, 61264, 22848, 58503, 64916,\n",
       "       11369, 52057, 68265, 79468, 25990, 41551,  4834, 55619, 36054,\n",
       "       55642, 33080, 76257, 37579, 17330, 79129, 13652,   300, 45480,\n",
       "       59467, 53515, 33781, 49168, 61081, 46029, 23452, 78116, 61441,\n",
       "       41536, 12872, 26464, 23289, 22547,  8970, 52694, 14293,  4456,\n",
       "       68451,  3761, 18696, 58143, 63375, 23109, 21070, 66854, 21962,\n",
       "       67084, 12794, 69687, 21693, 65322,  7796, 59939, 71704, 19334,\n",
       "        3658,  5993, 77643, 14134, 35675, 45197, 53574, 35298, 43000,\n",
       "        7545, 31971,  9894, 15475, 72704,  8344,  3874, 78646, 10322,\n",
       "       40092, 21149, 67299, 25134, 21642, 43729, 24965, 66036,  8051,\n",
       "       50211, 38356, 62493, 68236, 30936, 21426, 76334, 15495, 31182,\n",
       "       13434, 11867, 75962,  8901, 32354, 16499, 20977, 26195,  3727,\n",
       "         782, 24513, 66137, 41595, 42404, 11615, 25166, 68507, 67215,\n",
       "       52498, 64762,   400, 39938, 22241, 30335, 71168, 39190, 41999,\n",
       "       32836, 56143,   912, 65619, 37665, 68184, 69790, 49274, 48723,\n",
       "       17283, 45340, 39857, 42598, 31108, 72609, 57448, 22942,  9520,\n",
       "       57972, 39729, 27160, 72809, 31643, 27813, 72662, 42002, 16800,\n",
       "       50047,  7809, 11899,   679, 80127, 13403, 42345, 37183, 11898,\n",
       "       13063, 38559, 59841, 53785, 10036, 17592, 75760, 45002, 59028,\n",
       "       17810,   810, 15690, 48406,  5707, 16635,  2095, 57212,  5583,\n",
       "       77274, 79119, 69524, 28641,  6857, 56880, 44232,     0, 25965,\n",
       "       59612, 62620, 13591, 58060, 37293, 77768, 29477, 42823, 47854,\n",
       "       60406, 44517, 59507,  6887, 62008, 20287, 69893, 70084, 49241,\n",
       "       37392,  4701, 24524, 44973, 58534, 43903, 21951, 17735, 18863,\n",
       "       53007, 71592,   627, 33368, 12009, 42647, 78916, 25025, 64169,\n",
       "       44526, 36849, 65230, 43262, 59717, 10483, 51749, 30227, 28718,\n",
       "       23856,  9523, 24089, 51648, 45989, 73255, 56082, 32126, 60712,\n",
       "       47343,  5545, 34061, 67249, 70776, 71041, 70950, 14680, 46750,\n",
       "       29919, 54532,   623, 52292, 47849, 54358,  6048, 74087, 28301,\n",
       "       57328, 78402, 22711, 75523, 57786, 21842, 50018, 51387,  2958,\n",
       "       69069, 44201, 75973, 37921, 12901, 46288,   976, 63040, 15759,\n",
       "       32046, 49339, 42890, 52868, 41044, 49147,  8254,  7468, 74140,\n",
       "       46708, 20035, 62077, 11666, 32212, 36146, 70770, 40359, 37694,\n",
       "       42173,  3500, 29765, 10524, 36770, 39156, 12519, 52643, 37456,\n",
       "       71087, 69632, 77170, 27850,  9747, 64459, 65499, 51413, 46520,\n",
       "       23588, 28770, 75469, 43097, 73705, 32285, 53217, 54301, 13751,\n",
       "       43164, 48682, 41562, 31889, 77941, 66532, 54934, 26482, 34973,\n",
       "       18982, 41109, 78254, 52007, 59786, 47170, 46522, 20959,    72,\n",
       "       52872, 78665, 30657, 73324, 22342, 57559, 32422, 40240, 17917,\n",
       "       53114, 28294, 78832, 14561, 38784, 80012,  8471, 50971, 43107,\n",
       "       27205, 47422, 68407, 55413, 37836, 69944, 46721, 60585, 49800,\n",
       "       63918, 11911,  2331, 10877, 59376, 13560, 16226, 44996, 78203,\n",
       "        1557, 64924, 38383, 72305, 76029, 62700, 11217, 31247,  9511,\n",
       "       65401, 36942, 63899, 11349, 38786, 26292, 34810, 67885, 45917,\n",
       "       80039, 71612, 52177, 27661, 61764, 31299, 42116, 22109, 20396,\n",
       "       26764, 32294, 29283, 26658, 72055,  1516,  1167, 70600, 79377,\n",
       "       64785,  1045, 33752, 65006, 52955,  5810,  2344, 26359, 36822,\n",
       "       24410, 56517,   908, 67404,  7219, 38873,  8083, 65987, 16616,\n",
       "        1115, 33240, 13127, 25861,   659, 54080, 72697, 10884, 51840,\n",
       "       75065, 79294, 35142, 40260, 32481, 67462, 42048, 51030, 39196,\n",
       "       68197, 26307, 51115, 48216, 61396, 74881, 12882, 49565, 12114,\n",
       "       76339, 56672,  7170,  5872, 60725, 38768, 42162, 21936, 33165,\n",
       "       55118, 51578, 61189, 26285, 25023, 14306, 57401, 33392, 22081,\n",
       "       11096, 30663, 19882, 49803, 40364, 21737, 26595, 13160, 11031,\n",
       "       11649, 69437,   589, 20331, 68510, 65638, 64703, 63301, 15059,\n",
       "       36334, 76024, 70845, 31724, 71027, 53851, 77778, 15889, 50043,\n",
       "       33256, 37741, 50872, 76830, 40501, 71412, 14506, 36333, 67482,\n",
       "       79086, 55104,  9480, 11972, 14118, 33839, 55274, 60570,   569,\n",
       "       28169, 18127, 39916, 11722, 35896, 71024, 69426, 41571, 27550,\n",
       "       56910,  9905, 52170,  6079,  5580, 19045, 17367, 47489, 69444,\n",
       "       26329, 15859, 50149, 72867, 74988, 55609, 12676, 20571, 80082,\n",
       "       70859, 23784, 38161,  3989, 50723, 52065, 74503,  7550, 46261,\n",
       "        8608, 54481,  8866, 30905, 14032, 20846, 72952, 51609, 42231,\n",
       "       41389, 74581, 67418, 40797, 27749, 70465, 70897, 64530,  5628,\n",
       "       77861, 62807, 57413, 71220, 20335, 36075, 60594, 41237, 31166,\n",
       "       67657, 80151, 59086, 55735, 27918, 75164, 25295, 31909, 31974,\n",
       "       36946, 55226, 75892, 71821, 21930,  9969, 37981, 44055, 43570,\n",
       "       33716, 73494, 55026, 26115, 37647, 16037, 58256,  3589, 78521,\n",
       "       74946, 79728, 35158, 32173, 75393,  3361, 66202, 63385, 11976,\n",
       "        1257, 15014, 27579, 42221, 62236,  3572, 32631, 79668, 47511,\n",
       "       23960, 51367, 77428, 67976, 76935, 34190, 71756, 51077, 37716,\n",
       "       60363, 23709, 27605, 25668,  5490, 48712, 45430, 77349, 42170,\n",
       "       73770,  4157, 62130, 47847, 25360, 19295, 60376, 15797,  4942,\n",
       "       29137,  7150, 44779, 14052, 39921, 61007, 23801, 76069, 59385,\n",
       "        5212,   664, 61424, 46067, 18915, 77136,   297, 74189, 65787,\n",
       "       39972, 29710, 13500, 41510, 33825, 56998,  1556,  2679, 35405,\n",
       "       30035, 40599, 50998, 71542, 21262, 29149,  1377, 17557, 27496,\n",
       "       16916, 59204, 33736, 28381, 67236, 74842, 53883, 77999, 44566,\n",
       "       50810, 41765, 75239, 34632, 51871, 39087, 45639, 56311, 75112,\n",
       "       68266, 26150, 17526, 44695, 80182,  5461, 54290, 78027, 63115,\n",
       "       40861, 23382, 26061, 41969,  2886, 11694, 41144, 52400, 66627,\n",
       "       35119, 40418, 43834, 25171, 10058, 76967, 58353, 19524, 74100,\n",
       "       11432, 78238, 60769, 39532, 17745, 24126, 68680, 33363, 22400,\n",
       "       35498, 38237, 37856,  2916, 77284, 12090, 16081,  2412, 19849,\n",
       "       70446, 59495, 63859, 73234, 10648, 13595, 35614, 66264, 48542,\n",
       "       68156, 48059, 16416, 39164, 20340, 27909, 50073, 13074, 31091,\n",
       "       78182, 66206, 42656, 63676, 18006, 62402, 47904,  3073, 50621,\n",
       "       17879, 13568, 58390, 68096, 70190, 67093, 64346, 64615, 18051,\n",
       "       66663,  4620, 54462, 42688, 20877, 30317, 28263, 14622,  8287,\n",
       "       66783, 16864, 55062,  1593,  2244, 29301,  7129, 21167, 68191,\n",
       "       73768, 63353, 15467, 63389, 43208, 66666, 29644,  6052,  6244,\n",
       "       69485, 68334, 13625,  8764, 37821, 71957, 26020, 49553, 22325,\n",
       "       24468, 33600, 27856, 61092, 19318, 50318,  8965, 48131, 48601,\n",
       "       34875, 63047, 77177,  9442, 57227, 51524, 10103, 22843, 73792,\n",
       "       31529])"
      ]
     },
     "execution_count": 95,
     "metadata": {},
     "output_type": "execute_result"
    }
   ],
   "source": [
    "# Lets down sample to 1000 samples:\n",
    "nsamples = 1000\n",
    "#nsamples = 5000\n",
    "downSampleMask = np.random.choice(range(len(ufos)-1), nsamples, replace=False)\n",
    "downSampleMask # take a look"
   ]
  },
  {
   "cell_type": "markdown",
   "metadata": {},
   "source": [
    "So, downSampleMask is now a list of random indicies for the UFO dataset.  Let's downsample our UFO dataset:"
   ]
  },
  {
   "cell_type": "code",
   "execution_count": 96,
   "metadata": {},
   "outputs": [],
   "source": [
    "ufosDS = ufos.loc[downSampleMask]"
   ]
  },
  {
   "cell_type": "code",
   "execution_count": 97,
   "metadata": {},
   "outputs": [
    {
     "data": {
      "text/html": [
       "<div>\n",
       "<style scoped>\n",
       "    .dataframe tbody tr th:only-of-type {\n",
       "        vertical-align: middle;\n",
       "    }\n",
       "\n",
       "    .dataframe tbody tr th {\n",
       "        vertical-align: top;\n",
       "    }\n",
       "\n",
       "    .dataframe thead th {\n",
       "        text-align: right;\n",
       "    }\n",
       "</style>\n",
       "<table border=\"1\" class=\"dataframe\">\n",
       "  <thead>\n",
       "    <tr style=\"text-align: right;\">\n",
       "      <th></th>\n",
       "      <th>date</th>\n",
       "      <th>city</th>\n",
       "      <th>state</th>\n",
       "      <th>country</th>\n",
       "      <th>shape</th>\n",
       "      <th>duration_seconds</th>\n",
       "      <th>duration</th>\n",
       "      <th>comment</th>\n",
       "      <th>report_date</th>\n",
       "      <th>latitude</th>\n",
       "      <th>longitude</th>\n",
       "    </tr>\n",
       "  </thead>\n",
       "  <tbody>\n",
       "    <tr>\n",
       "      <th>75771</th>\n",
       "      <td>2004-09-19 22:00:00</td>\n",
       "      <td>huron</td>\n",
       "      <td>oh</td>\n",
       "      <td>us</td>\n",
       "      <td>light</td>\n",
       "      <td>120.0</td>\n",
       "      <td>1-2 minutes</td>\n",
       "      <td>Three light able to move very quickly</td>\n",
       "      <td>2004-09-29</td>\n",
       "      <td>41.395000</td>\n",
       "      <td>-82.555278</td>\n",
       "    </tr>\n",
       "    <tr>\n",
       "      <th>78154</th>\n",
       "      <td>2001-09-28 23:00:00</td>\n",
       "      <td>richmond</td>\n",
       "      <td>va</td>\n",
       "      <td>us</td>\n",
       "      <td>other</td>\n",
       "      <td>180.0</td>\n",
       "      <td>2-3 minutes</td>\n",
       "      <td>sighted 09/28/2001 no noise Richmond&amp;#44 Va. a...</td>\n",
       "      <td>2008-03-31</td>\n",
       "      <td>37.553611</td>\n",
       "      <td>-77.460556</td>\n",
       "    </tr>\n",
       "    <tr>\n",
       "      <th>47812</th>\n",
       "      <td>2003-06-01 19:30:00</td>\n",
       "      <td>westport</td>\n",
       "      <td>ct</td>\n",
       "      <td>us</td>\n",
       "      <td>triangle</td>\n",
       "      <td>10.0</td>\n",
       "      <td>10 seconds</td>\n",
       "      <td>Westport&amp;#44 CT possible sighting</td>\n",
       "      <td>2005-05-24</td>\n",
       "      <td>41.141389</td>\n",
       "      <td>-73.358333</td>\n",
       "    </tr>\n",
       "    <tr>\n",
       "      <th>37753</th>\n",
       "      <td>2007-04-19 21:30:00</td>\n",
       "      <td>sidcup (uk/england)</td>\n",
       "      <td>unknown</td>\n",
       "      <td>gb</td>\n",
       "      <td>formation</td>\n",
       "      <td>60.0</td>\n",
       "      <td>one hour</td>\n",
       "      <td>was alerted by the people who live next door t...</td>\n",
       "      <td>2007-04-27</td>\n",
       "      <td>51.416667</td>\n",
       "      <td>0.116667</td>\n",
       "    </tr>\n",
       "    <tr>\n",
       "      <th>20880</th>\n",
       "      <td>2008-12-27 15:00:00</td>\n",
       "      <td>los angeles</td>\n",
       "      <td>ca</td>\n",
       "      <td>us</td>\n",
       "      <td>sphere</td>\n",
       "      <td>1800.0</td>\n",
       "      <td>30 minutes</td>\n",
       "      <td>Star/sphere like object moving back and forth.</td>\n",
       "      <td>2009-04-14</td>\n",
       "      <td>34.052222</td>\n",
       "      <td>-118.242778</td>\n",
       "    </tr>\n",
       "    <tr>\n",
       "      <th>...</th>\n",
       "      <td>...</td>\n",
       "      <td>...</td>\n",
       "      <td>...</td>\n",
       "      <td>...</td>\n",
       "      <td>...</td>\n",
       "      <td>...</td>\n",
       "      <td>...</td>\n",
       "      <td>...</td>\n",
       "      <td>...</td>\n",
       "      <td>...</td>\n",
       "      <td>...</td>\n",
       "    </tr>\n",
       "    <tr>\n",
       "      <th>51524</th>\n",
       "      <td>2008-06-24 23:36:00</td>\n",
       "      <td>cromwell</td>\n",
       "      <td>ct</td>\n",
       "      <td>us</td>\n",
       "      <td>light</td>\n",
       "      <td>10.0</td>\n",
       "      <td>5 - 10 seconds</td>\n",
       "      <td>blueish green ball of light fly in the sky bel...</td>\n",
       "      <td>2008-07-05</td>\n",
       "      <td>41.595000</td>\n",
       "      <td>-72.645833</td>\n",
       "    </tr>\n",
       "    <tr>\n",
       "      <th>10103</th>\n",
       "      <td>1995-11-17 23:00:00</td>\n",
       "      <td>seattle</td>\n",
       "      <td>wa</td>\n",
       "      <td>us</td>\n",
       "      <td>unknown</td>\n",
       "      <td>10800.0</td>\n",
       "      <td>3 hrs.</td>\n",
       "      <td>Young woman repts. witnessing multiple &amp;quot;f...</td>\n",
       "      <td>1999-11-02</td>\n",
       "      <td>47.606389</td>\n",
       "      <td>-122.330833</td>\n",
       "    </tr>\n",
       "    <tr>\n",
       "      <th>22843</th>\n",
       "      <td>1998-12-06 18:45:00</td>\n",
       "      <td>phoenix</td>\n",
       "      <td>az</td>\n",
       "      <td>us</td>\n",
       "      <td>cylinder</td>\n",
       "      <td>45.0</td>\n",
       "      <td>45 seconds</td>\n",
       "      <td>While working security I seen a object enter e...</td>\n",
       "      <td>1999-01-28</td>\n",
       "      <td>33.448333</td>\n",
       "      <td>-112.073333</td>\n",
       "    </tr>\n",
       "    <tr>\n",
       "      <th>73792</th>\n",
       "      <td>2013-09-01 23:00:00</td>\n",
       "      <td>dennisport</td>\n",
       "      <td>ma</td>\n",
       "      <td>unknown</td>\n",
       "      <td>sphere</td>\n",
       "      <td>37800.0</td>\n",
       "      <td>1 1/2 hr.</td>\n",
       "      <td>At 10:30 PM we saw 4 bright orange orbs float ...</td>\n",
       "      <td>2013-09-09</td>\n",
       "      <td>41.658445</td>\n",
       "      <td>-70.128629</td>\n",
       "    </tr>\n",
       "    <tr>\n",
       "      <th>31529</th>\n",
       "      <td>1995-03-15 22:00:00</td>\n",
       "      <td>howell</td>\n",
       "      <td>mi</td>\n",
       "      <td>us</td>\n",
       "      <td>triangle</td>\n",
       "      <td>1200.0</td>\n",
       "      <td>20 min</td>\n",
       "      <td>On a night now known as &amp;quot;sightings night&amp;...</td>\n",
       "      <td>1999-05-24</td>\n",
       "      <td>42.607222</td>\n",
       "      <td>-83.929444</td>\n",
       "    </tr>\n",
       "  </tbody>\n",
       "</table>\n",
       "<p>1000 rows × 11 columns</p>\n",
       "</div>"
      ],
      "text/plain": [
       "                     date                 city    state  country      shape  \\\n",
       "75771 2004-09-19 22:00:00                huron       oh       us      light   \n",
       "78154 2001-09-28 23:00:00             richmond       va       us      other   \n",
       "47812 2003-06-01 19:30:00             westport       ct       us   triangle   \n",
       "37753 2007-04-19 21:30:00  sidcup (uk/england)  unknown       gb  formation   \n",
       "20880 2008-12-27 15:00:00          los angeles       ca       us     sphere   \n",
       "...                   ...                  ...      ...      ...        ...   \n",
       "51524 2008-06-24 23:36:00             cromwell       ct       us      light   \n",
       "10103 1995-11-17 23:00:00              seattle       wa       us    unknown   \n",
       "22843 1998-12-06 18:45:00              phoenix       az       us   cylinder   \n",
       "73792 2013-09-01 23:00:00           dennisport       ma  unknown     sphere   \n",
       "31529 1995-03-15 22:00:00               howell       mi       us   triangle   \n",
       "\n",
       "       duration_seconds        duration  \\\n",
       "75771             120.0     1-2 minutes   \n",
       "78154             180.0     2-3 minutes   \n",
       "47812              10.0      10 seconds   \n",
       "37753              60.0        one hour   \n",
       "20880            1800.0      30 minutes   \n",
       "...                 ...             ...   \n",
       "51524              10.0  5 - 10 seconds   \n",
       "10103           10800.0          3 hrs.   \n",
       "22843              45.0      45 seconds   \n",
       "73792           37800.0       1 1/2 hr.   \n",
       "31529            1200.0          20 min   \n",
       "\n",
       "                                                 comment report_date  \\\n",
       "75771              Three light able to move very quickly  2004-09-29   \n",
       "78154  sighted 09/28/2001 no noise Richmond&#44 Va. a...  2008-03-31   \n",
       "47812                  Westport&#44 CT possible sighting  2005-05-24   \n",
       "37753  was alerted by the people who live next door t...  2007-04-27   \n",
       "20880     Star/sphere like object moving back and forth.  2009-04-14   \n",
       "...                                                  ...         ...   \n",
       "51524  blueish green ball of light fly in the sky bel...  2008-07-05   \n",
       "10103  Young woman repts. witnessing multiple &quot;f...  1999-11-02   \n",
       "22843  While working security I seen a object enter e...  1999-01-28   \n",
       "73792  At 10:30 PM we saw 4 bright orange orbs float ...  2013-09-09   \n",
       "31529  On a night now known as &quot;sightings night&...  1999-05-24   \n",
       "\n",
       "        latitude   longitude  \n",
       "75771  41.395000  -82.555278  \n",
       "78154  37.553611  -77.460556  \n",
       "47812  41.141389  -73.358333  \n",
       "37753  51.416667    0.116667  \n",
       "20880  34.052222 -118.242778  \n",
       "...          ...         ...  \n",
       "51524  41.595000  -72.645833  \n",
       "10103  47.606389 -122.330833  \n",
       "22843  33.448333 -112.073333  \n",
       "73792  41.658445  -70.128629  \n",
       "31529  42.607222  -83.929444  \n",
       "\n",
       "[1000 rows x 11 columns]"
      ]
     },
     "execution_count": 97,
     "metadata": {},
     "output_type": "execute_result"
    }
   ],
   "source": [
    "ufosDS"
   ]
  },
  {
   "cell_type": "markdown",
   "metadata": {},
   "source": [
    "Quick look:"
   ]
  },
  {
   "cell_type": "code",
   "execution_count": 98,
   "metadata": {},
   "outputs": [
    {
     "data": {
      "image/png": "[encoded data removed]",
      "text/plain": [
       "<Figure size 576x576 with 1 Axes>"
      ]
     },
     "metadata": {
      "needs_background": "light"
     },
     "output_type": "display_data"
    }
   ],
   "source": [
    "plt.clf() # might need this to \"get rid\" of Michigan data\n",
    "plt.plot(ufos['longitude'],ufos['latitude'],'.')\n",
    "plt.show()"
   ]
  },
  {
   "cell_type": "code",
   "execution_count": 99,
   "metadata": {},
   "outputs": [
    {
     "data": {
      "image/png": "[encoded data removed]",
      "text/plain": [
       "<Figure size 576x576 with 1 Axes>"
      ]
     },
     "metadata": {
      "needs_background": "light"
     },
     "output_type": "display_data"
    }
   ],
   "source": [
    "plt.clf() # might need this to \"get rid\" of Michigan data\n",
    "plt.plot(ufosDS['longitude'],ufosDS['latitude'],'.')\n",
    "plt.show()"
   ]
  },
  {
   "cell_type": "markdown",
   "metadata": {},
   "source": [
    "We can try with a scatter plot as well which allows us to add in another encoding with color:"
   ]
  },
  {
   "cell_type": "code",
   "execution_count": 100,
   "metadata": {},
   "outputs": [
    {
     "data": {
      "image/png": "[encoded data removed]",
      "text/plain": [
       "<Figure size 576x576 with 1 Axes>"
      ]
     },
     "metadata": {
      "needs_background": "light"
     },
     "output_type": "display_data"
    }
   ],
   "source": [
    "plt.clf()\n",
    "plt.scatter(ufosDS['longitude'],ufosDS['latitude'], c=np.log10(ufosDS['duration_seconds']), cmap='rainbow')\n",
    "plt.show()"
   ]
  },
  {
   "cell_type": "markdown",
   "metadata": {},
   "source": [
    "### Lab: work on HW with this dataset!"
   ]
  },
  {
   "cell_type": "markdown",
   "metadata": {},
   "source": [
    "Hint:"
   ]
  },
  {
   "cell_type": "code",
   "execution_count": 101,
   "metadata": {},
   "outputs": [
    {
     "data": {
      "text/plain": [
       "<Figure size 576x576 with 0 Axes>"
      ]
     },
     "metadata": {},
     "output_type": "display_data"
    },
    {
     "data": {
      "image/png": "[encoded data removed]",
      "text/plain": [
       "<Figure size 1440x720 with 1 Axes>"
      ]
     },
     "metadata": {
      "needs_background": "light"
     },
     "output_type": "display_data"
    }
   ],
   "source": [
    "plt.clf()\n",
    "fig, ax = plt.subplots(figsize=(20,10))\n",
    "ufosDS.hist(column='longitude', ax=ax)\n",
    "plt.show()"
   ]
  },
  {
   "cell_type": "code",
   "execution_count": null,
   "metadata": {},
   "outputs": [],
   "source": []
  }
 ],
 "metadata": {
  "kernelspec": {
   "display_name": "Python 3",
   "language": "python",
   "name": "python3"
  },
  "language_info": {
   "codemirror_mode": {
    "name": "ipython",
    "version": 3
   },
   "file_extension": ".py",
   "mimetype": "text/x-python",
   "name": "python",
   "nbconvert_exporter": "python",
   "pygments_lexer": "ipython3",
   "version": "3.7.7"
  }
 },
 "nbformat": 4,
 "nbformat_minor": 4
}
