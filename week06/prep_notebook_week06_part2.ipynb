{
 "cells": [
  {
   "cell_type": "markdown",
   "metadata": {},
   "source": [
    "# Maps with bqplot - Chloropeths"
   ]
  },
  {
   "cell_type": "code",
   "execution_count": 6,
   "metadata": {},
   "outputs": [],
   "source": [
    "# import our usual things\n",
    "%matplotlib inline\n",
    "import pandas as pd\n",
    "import matplotlib.pyplot as plt\n",
    "import ipywidgets\n",
    "import bqplot\n",
    "import numpy as np"
   ]
  },
  {
   "cell_type": "markdown",
   "metadata": {},
   "source": [
    "## Info viz maps with bqplot"
   ]
  },
  {
   "cell_type": "markdown",
   "metadata": {},
   "source": [
    "Let's quick check out another mark available to us in `bqplot`:"
   ]
  },
  {
   "cell_type": "code",
   "execution_count": 7,
   "metadata": {},
   "outputs": [
    {
     "data": {
      "application/vnd.jupyter.widget-view+json": {
       "model_id": "a7fc4278a70a45c6898dc4d96256843f",
       "version_major": 2,
       "version_minor": 0
      },
      "text/plain": [
       "Figure(fig_margin={'top': 60, 'bottom': 60, 'left': 60, 'right': 60}, marks=[Map(hovered_styles={'hovered_fill…"
      ]
     },
     "metadata": {},
     "output_type": "display_data"
    }
   ],
   "source": [
    "map_mark = bqplot.Map(scales={'projection': bqplot.AlbersUSA()})\n",
    "fig = bqplot.Figure(marks=[map_mark], title='Basic Map Example')\n",
    "#fig.layout.min_height='800px'\n",
    "fig"
   ]
  },
  {
   "cell_type": "markdown",
   "metadata": {},
   "source": [
    "This is using an \"Albers\" projection for our map which is stored as a json file (this will come up in D3 as well): https://github.com/d3/d3-3.x-api-reference/blob/master/Geo-Projections.md\n",
    "\n",
    "You'll note that there is some funny stuff happening here with Alaska -- sometimes shape files get messed up!  Let's try a different way:"
   ]
  },
  {
   "cell_type": "code",
   "execution_count": 8,
   "metadata": {},
   "outputs": [
    {
     "data": {
      "application/vnd.jupyter.widget-view+json": {
       "model_id": "05c5883c69724ed3a0cae2f486c8fb85",
       "version_major": 2,
       "version_minor": 0
      },
      "text/plain": [
       "Figure(fig_margin={'top': 0, 'bottom': 0, 'left': 0, 'right': 0}, marks=[Map(hovered_styles={'hovered_fill': '…"
      ]
     },
     "metadata": {},
     "output_type": "display_data"
    }
   ],
   "source": [
    "# scales\n",
    "sc_geo = bqplot.AlbersUSA()\n",
    "state_data = bqplot.topo_load('map_data/USStatesMap.json') # have to specify shapes to draw\n",
    "\n",
    "# Marks\n",
    "states_map = bqplot.Map(map_data=state_data, \n",
    "                        scales={'projection':sc_geo})\n",
    "\n",
    "# Fig\n",
    "fig=bqplot.Figure(marks=[states_map], \n",
    "                  title='US States Map Example',\n",
    "                  fig_margin={'top': 0, 'bottom': 0, 'left': 0, 'right': 0})\n",
    "fig"
   ]
  },
  {
   "cell_type": "markdown",
   "metadata": {},
   "source": [
    "A few notes -- where did this map data come from? Check out your packages in anaconda **GO DO**.\n",
    "\n",
    "Looks like we also have `EuropeMap.json`, `USCountiesMap.json` and `WorldMap.json`.  This list probably tells you something already about who the developers are and where they live ;)\n",
    "\n",
    "In scales for the Map mark, there is also the limitation of `GeoScale` (general, to make your own), `Mercator` (which we all by now hate) and `AlbersUSA`, `Gnomonic` and `Sterographic`.  For fun, let's see the world with some of these:"
   ]
  },
  {
   "cell_type": "code",
   "execution_count": 9,
   "metadata": {},
   "outputs": [
    {
     "data": {
      "application/vnd.jupyter.widget-view+json": {
       "model_id": "da5d6c952c0148859b8d8eb6321486ce",
       "version_major": 2,
       "version_minor": 0
      },
      "text/plain": [
       "Figure(fig_margin={'top': 0, 'bottom': 0, 'left': 0, 'right': 0}, marks=[Map(hovered_styles={'hovered_fill': '…"
      ]
     },
     "metadata": {},
     "output_type": "display_data"
    }
   ],
   "source": [
    "# scales\n",
    "sc_geo = bqplot.Mercator()\n",
    "map_data = bqplot.topo_load('map_data/WorldMap.json') # have to specify shapes to draw\n",
    "\n",
    "# Marks\n",
    "our_map = bqplot.Map(map_data=map_data, \n",
    "                        scales={'projection':sc_geo})\n",
    "\n",
    "# Fig\n",
    "fig=bqplot.Figure(marks=[our_map], \n",
    "                  fig_margin={'top': 0, 'bottom': 0, 'left': 0, 'right': 0})\n",
    "fig"
   ]
  },
  {
   "cell_type": "code",
   "execution_count": 10,
   "metadata": {},
   "outputs": [
    {
     "data": {
      "application/vnd.jupyter.widget-view+json": {
       "model_id": "0d223dd6fd464f34b73c30565ac1bd6a",
       "version_major": 2,
       "version_minor": 0
      },
      "text/plain": [
       "Figure(fig_margin={'top': 0, 'bottom': 0, 'left': 0, 'right': 0}, marks=[Map(hovered_styles={'hovered_fill': '…"
      ]
     },
     "metadata": {},
     "output_type": "display_data"
    }
   ],
   "source": [
    "# scales\n",
    "sc_geo = bqplot.Gnomonic()\n",
    "map_data = bqplot.topo_load('map_data/WorldMap.json') # have to specify shapes to draw\n",
    "\n",
    "# Marks\n",
    "our_map = bqplot.Map(map_data=map_data, \n",
    "                        scales={'projection':sc_geo})\n",
    "\n",
    "# Fig\n",
    "fig=bqplot.Figure(marks=[our_map], \n",
    "                  fig_margin={'top': 0, 'bottom': 0, 'left': 0, 'right': 0})\n",
    "fig"
   ]
  },
  {
   "cell_type": "code",
   "execution_count": 11,
   "metadata": {},
   "outputs": [
    {
     "data": {
      "application/vnd.jupyter.widget-view+json": {
       "model_id": "c1adfa0eed9743adb6175a716cdb4ebb",
       "version_major": 2,
       "version_minor": 0
      },
      "text/plain": [
       "Figure(fig_margin={'top': 0, 'bottom': 0, 'left': 0, 'right': 0}, marks=[Map(hovered_styles={'hovered_fill': '…"
      ]
     },
     "metadata": {},
     "output_type": "display_data"
    }
   ],
   "source": [
    "# scales\n",
    "sc_geo = bqplot.Stereographic()\n",
    "map_data = bqplot.topo_load('map_data/WorldMap.json') # have to specify shapes to draw\n",
    "\n",
    "# Marks\n",
    "our_map = bqplot.Map(map_data=map_data, \n",
    "                        scales={'projection':sc_geo})\n",
    "\n",
    "# Fig\n",
    "fig=bqplot.Figure(marks=[our_map], \n",
    "                  fig_margin={'top': 0, 'bottom': 0, 'left': 0, 'right': 0})\n",
    "fig"
   ]
  },
  {
   "cell_type": "markdown",
   "metadata": {},
   "source": [
    "Let's return to our state data:"
   ]
  },
  {
   "cell_type": "code",
   "execution_count": 12,
   "metadata": {},
   "outputs": [
    {
     "data": {
      "application/vnd.jupyter.widget-view+json": {
       "model_id": "6021136d9666461ebe08fdc7fe0d3bb9",
       "version_major": 2,
       "version_minor": 0
      },
      "text/plain": [
       "Figure(fig_margin={'top': 0, 'bottom': 0, 'left': 0, 'right': 0}, marks=[Map(hovered_styles={'hovered_fill': '…"
      ]
     },
     "metadata": {},
     "output_type": "display_data"
    }
   ],
   "source": [
    "# scales\n",
    "sc_geo = bqplot.AlbersUSA()\n",
    "state_data = bqplot.topo_load('map_data/USStatesMap.json') # have to specify shapes to draw\n",
    "\n",
    "# Marks\n",
    "states_map = bqplot.Map(map_data=state_data, \n",
    "                        scales={'projection':sc_geo})\n",
    "\n",
    "# Fig\n",
    "fig=bqplot.Figure(marks=[states_map], \n",
    "                  title='US States Map Example',\n",
    "                  fig_margin={'top': 0, 'bottom': 0, 'left': 0, 'right': 0})\n",
    "fig"
   ]
  },
  {
   "cell_type": "markdown",
   "metadata": {},
   "source": [
    "PS: not how small Alaska is!  See actual size:\n",
    "\n",
    "<img src=\"https://serialmentor.com/dataviz/geospatial_data_files/figure-html/usa-albers-revised-1.png\">"
   ]
  },
  {
   "cell_type": "markdown",
   "metadata": {},
   "source": [
    "Let's add something new: a tooltip that will give us info about the state & its ID's:"
   ]
  },
  {
   "cell_type": "code",
   "execution_count": 13,
   "metadata": {},
   "outputs": [],
   "source": [
    "bqplot.Tooltip?"
   ]
  },
  {
   "cell_type": "markdown",
   "metadata": {},
   "source": [
    "Note: it says something about \"all attributes of the mark are accessible in the tool tip\" -- this is a little frustrating part about bqplot that not all kinds of things can be displayed with tooltips.  You can certainly build your own with widgets, but we won't for this case -- we'll just use the defaults:"
   ]
  },
  {
   "cell_type": "code",
   "execution_count": 14,
   "metadata": {},
   "outputs": [
    {
     "data": {
      "application/vnd.jupyter.widget-view+json": {
       "model_id": "53bcc5df35f640d0a404c5c3bf067b02",
       "version_major": 2,
       "version_minor": 0
      },
      "text/plain": [
       "Figure(fig_margin={'top': 0, 'bottom': 0, 'left': 0, 'right': 0}, marks=[Map(hovered_styles={'hovered_fill': '…"
      ]
     },
     "metadata": {},
     "output_type": "display_data"
    }
   ],
   "source": [
    "#(1)\n",
    "sc_geo = bqplot.AlbersUSA()\n",
    "state_data = bqplot.topo_load('map_data/USStatesMap.json')\n",
    "\n",
    "# (1.5) tooltip \n",
    "def_tt = bqplot.Tooltip(fields=['id', 'name'])\n",
    "\n",
    "states_map = bqplot.Map(map_data=state_data, \n",
    "                        scales={'projection':sc_geo}, \n",
    "                        tooltip=def_tt)\n",
    "\n",
    "# 4 interactions\n",
    "states_map.interactions = {'click': 'select', 'hover': 'tooltip'}\n",
    "\n",
    "fig=bqplot.Figure(marks=[states_map], \n",
    "                  title='US States Map Example',\n",
    "                  fig_margin={'top': 0, 'bottom': 0, 'left': 0, 'right': 0}) # try w/o first and see\n",
    "fig"
   ]
  },
  {
   "cell_type": "markdown",
   "metadata": {},
   "source": [
    "So now it displays the name of the state we are hovering over *and* it turns different colors when we select different states.  Let's keep adding! Let's allow the selected states (the ones colored red) to have their names printed out.  "
   ]
  },
  {
   "cell_type": "code",
   "execution_count": 15,
   "metadata": {},
   "outputs": [
    {
     "data": {
      "text/plain": [
       "(array(['Washington', 'Montana', 'Idaho', 'North Dakota', 'Minnesota',\n",
       "        'Maine', 'Michigan', 'Wisconsin', 'Oregon', 'South Dakota',\n",
       "        'New Hampshire', 'Vermont', 'New York', 'Wyoming', 'Iowa',\n",
       "        'Nebraska', 'Massachusetts', 'Illinois', 'Pennsylvania',\n",
       "        'Connecticut', 'Rhode Island', 'California', 'Utah', 'Nevada',\n",
       "        'Ohio', 'Indiana', 'New Jersey', 'Colorado', 'West Virginia',\n",
       "        'Missouri', 'Kansas', 'Delaware', 'Maryland', 'Virginia',\n",
       "        'Kentucky', 'Arizona', 'Oklahoma', 'New Mexico', 'Tennessee',\n",
       "        'North Carolina', 'Texas', 'Arkansas', 'South Carolina', 'Alabama',\n",
       "        'Georgia', 'Mississippi', 'Louisiana', 'Florida', 'Hawaii',\n",
       "        'Alaska'], dtype='<U14'),\n",
       " array([53, 30, 16, 38, 27, 23, 26, 55, 41, 46, 33, 50, 36, 56, 19, 31, 25,\n",
       "        17, 42,  9, 44,  6, 49, 32, 39, 18, 34,  8, 54, 29, 20, 10, 24, 51,\n",
       "        21,  4, 40, 35, 47, 37, 48,  5, 45,  1, 13, 28, 22, 12, 15,  2]))"
      ]
     },
     "execution_count": 15,
     "metadata": {},
     "output_type": "execute_result"
    }
   ],
   "source": [
    "from states_utils import get_ids_and_names # the states_utils.py file is in the downloads section for today\n",
    "ids, state_names = get_ids_and_names(states_map) # pulls out names and ids\n",
    "\n",
    "state_names, ids"
   ]
  },
  {
   "cell_type": "code",
   "execution_count": 16,
   "metadata": {},
   "outputs": [
    {
     "data": {
      "application/vnd.jupyter.widget-view+json": {
       "model_id": "f45a39d4d20c4ab3a4ca8e3253a54198",
       "version_major": 2,
       "version_minor": 0
      },
      "text/plain": [
       "Figure(fig_margin={'top': 0, 'bottom': 0, 'left': 0, 'right': 0}, marks=[Map(hovered_styles={'hovered_fill': '…"
      ]
     },
     "metadata": {},
     "output_type": "display_data"
    }
   ],
   "source": [
    "#(1)\n",
    "sc_geo = bqplot.AlbersUSA()\n",
    "state_data = bqplot.topo_load('map_data/USStatesMap.json')\n",
    "\n",
    "# (1.5) tooltip \n",
    "def_tt = bqplot.Tooltip(fields=['id', 'name'])\n",
    "\n",
    "states_map = bqplot.Map(map_data=state_data, \n",
    "                        scales={'projection':sc_geo}, \n",
    "                        tooltip=def_tt)\n",
    "\n",
    "# 4 interactions\n",
    "states_map.interactions = {'click': 'select', 'hover': 'tooltip'}\n",
    "\n",
    "# more interactions:\n",
    "def get_data_value(change):\n",
    "    #print(change['owner'].selected) # so we have IDs, but we want to print state names\n",
    "    if change['owner'].selected is not None:\n",
    "        for i,s in enumerate(change['owner'].selected): # over all selected states\n",
    "            print(state_names[s == ids])\n",
    "        \n",
    "states_map.observe(get_data_value,'selected')\n",
    "\n",
    "\n",
    "fig=bqplot.Figure(marks=[states_map], \n",
    "                  title='US States Map Example',\n",
    "                  fig_margin={'top': 0, 'bottom': 0, 'left': 0, 'right': 0}) # try w/o first and see\n",
    "fig"
   ]
  },
  {
   "cell_type": "markdown",
   "metadata": {},
   "source": [
    "## Add in data to link to our map\n",
    "\n",
    "We'll now use a dataset that looks at total exports of each state in $US millions.\n",
    "\n",
    "This is originally from: https://www.ers.usda.gov/data-products/state-export-data/"
   ]
  },
  {
   "cell_type": "code",
   "execution_count": 17,
   "metadata": {},
   "outputs": [],
   "source": [
    "comm = pd.read_csv('/Users/jillnaiman/Downloads/total_export.csv')"
   ]
  },
  {
   "cell_type": "markdown",
   "metadata": {},
   "source": [
    "Take a quick look:"
   ]
  },
  {
   "cell_type": "code",
   "execution_count": 18,
   "metadata": {},
   "outputs": [
    {
     "data": {
      "text/html": [
       "<div>\n",
       "<style scoped>\n",
       "    .dataframe tbody tr th:only-of-type {\n",
       "        vertical-align: middle;\n",
       "    }\n",
       "\n",
       "    .dataframe tbody tr th {\n",
       "        vertical-align: top;\n",
       "    }\n",
       "\n",
       "    .dataframe thead th {\n",
       "        text-align: right;\n",
       "    }\n",
       "</style>\n",
       "<table border=\"1\" class=\"dataframe\">\n",
       "  <thead>\n",
       "    <tr style=\"text-align: right;\">\n",
       "      <th></th>\n",
       "      <th>State</th>\n",
       "      <th>2000</th>\n",
       "      <th>2001</th>\n",
       "      <th>2002</th>\n",
       "      <th>2003</th>\n",
       "      <th>2004</th>\n",
       "      <th>2005</th>\n",
       "      <th>2006</th>\n",
       "      <th>2007</th>\n",
       "      <th>2008</th>\n",
       "      <th>2009</th>\n",
       "      <th>2010</th>\n",
       "      <th>2011</th>\n",
       "      <th>2012</th>\n",
       "      <th>2013</th>\n",
       "      <th>2014</th>\n",
       "      <th>2015</th>\n",
       "      <th>2016</th>\n",
       "      <th>2017</th>\n",
       "    </tr>\n",
       "  </thead>\n",
       "  <tbody>\n",
       "    <tr>\n",
       "      <th>0</th>\n",
       "      <td>Alabama</td>\n",
       "      <td>574.6</td>\n",
       "      <td>673.2</td>\n",
       "      <td>530.0</td>\n",
       "      <td>719.5</td>\n",
       "      <td>724.4</td>\n",
       "      <td>771.5</td>\n",
       "      <td>695.6</td>\n",
       "      <td>839.7</td>\n",
       "      <td>1,050.4</td>\n",
       "      <td>1,040.7</td>\n",
       "      <td>1,131.7</td>\n",
       "      <td>1,405.0</td>\n",
       "      <td>1,469.6</td>\n",
       "      <td>1,587.3</td>\n",
       "      <td>1,510.1</td>\n",
       "      <td>1,199.1</td>\n",
       "      <td>1,207.6</td>\n",
       "      <td>1,271.9</td>\n",
       "    </tr>\n",
       "    <tr>\n",
       "      <th>1</th>\n",
       "      <td>Alaska</td>\n",
       "      <td>6.3</td>\n",
       "      <td>6.9</td>\n",
       "      <td>6.5</td>\n",
       "      <td>8.3</td>\n",
       "      <td>8.4</td>\n",
       "      <td>9.8</td>\n",
       "      <td>9.5</td>\n",
       "      <td>10.2</td>\n",
       "      <td>10.6</td>\n",
       "      <td>10.3</td>\n",
       "      <td>11.5</td>\n",
       "      <td>12.9</td>\n",
       "      <td>13.4</td>\n",
       "      <td>14.5</td>\n",
       "      <td>16.9</td>\n",
       "      <td>16.3</td>\n",
       "      <td>16.5</td>\n",
       "      <td>17.4</td>\n",
       "    </tr>\n",
       "    <tr>\n",
       "      <th>2</th>\n",
       "      <td>Arizona</td>\n",
       "      <td>485.9</td>\n",
       "      <td>467.1</td>\n",
       "      <td>511.8</td>\n",
       "      <td>552.6</td>\n",
       "      <td>632.1</td>\n",
       "      <td>663.5</td>\n",
       "      <td>706.0</td>\n",
       "      <td>843.8</td>\n",
       "      <td>1,014.4</td>\n",
       "      <td>851.0</td>\n",
       "      <td>1,070.0</td>\n",
       "      <td>1,514.8</td>\n",
       "      <td>1,335.5</td>\n",
       "      <td>1,435.6</td>\n",
       "      <td>1,334.5</td>\n",
       "      <td>1,391.5</td>\n",
       "      <td>1,453.8</td>\n",
       "      <td>1,682.6</td>\n",
       "    </tr>\n",
       "    <tr>\n",
       "      <th>3</th>\n",
       "      <td>Arkansas</td>\n",
       "      <td>1,306.3</td>\n",
       "      <td>1,346.9</td>\n",
       "      <td>1,327.7</td>\n",
       "      <td>1,801.0</td>\n",
       "      <td>1,914.8</td>\n",
       "      <td>1,937.8</td>\n",
       "      <td>2,050.7</td>\n",
       "      <td>2,606.1</td>\n",
       "      <td>3,514.1</td>\n",
       "      <td>2,864.4</td>\n",
       "      <td>3,190.4</td>\n",
       "      <td>3,506.2</td>\n",
       "      <td>4,010.1</td>\n",
       "      <td>4,023.4</td>\n",
       "      <td>3,625.6</td>\n",
       "      <td>3,142.9</td>\n",
       "      <td>3,007.0</td>\n",
       "      <td>3,182.8</td>\n",
       "    </tr>\n",
       "    <tr>\n",
       "      <th>4</th>\n",
       "      <td>California</td>\n",
       "      <td>6,852.6</td>\n",
       "      <td>7,088.0</td>\n",
       "      <td>7,210.3</td>\n",
       "      <td>7,848.4</td>\n",
       "      <td>8,703.1</td>\n",
       "      <td>9,679.4</td>\n",
       "      <td>10,351.5</td>\n",
       "      <td>11,561.8</td>\n",
       "      <td>14,014.8</td>\n",
       "      <td>13,462.3</td>\n",
       "      <td>15,353.3</td>\n",
       "      <td>18,195.9</td>\n",
       "      <td>20,182.9</td>\n",
       "      <td>22,781.1</td>\n",
       "      <td>23,931.4</td>\n",
       "      <td>22,897.1</td>\n",
       "      <td>21,860.2</td>\n",
       "      <td>23,050.5</td>\n",
       "    </tr>\n",
       "  </tbody>\n",
       "</table>\n",
       "</div>"
      ],
      "text/plain": [
       "        State     2000     2001     2002     2003     2004     2005      2006  \\\n",
       "0     Alabama    574.6    673.2    530.0    719.5    724.4    771.5     695.6   \n",
       "1      Alaska      6.3      6.9      6.5      8.3      8.4      9.8       9.5   \n",
       "2     Arizona    485.9    467.1    511.8    552.6    632.1    663.5     706.0   \n",
       "3    Arkansas  1,306.3  1,346.9  1,327.7  1,801.0  1,914.8  1,937.8   2,050.7   \n",
       "4  California  6,852.6  7,088.0  7,210.3  7,848.4  8,703.1  9,679.4  10,351.5   \n",
       "\n",
       "       2007      2008      2009      2010      2011      2012      2013  \\\n",
       "0     839.7   1,050.4   1,040.7   1,131.7   1,405.0   1,469.6   1,587.3   \n",
       "1      10.2      10.6      10.3      11.5      12.9      13.4      14.5   \n",
       "2     843.8   1,014.4     851.0   1,070.0   1,514.8   1,335.5   1,435.6   \n",
       "3   2,606.1   3,514.1   2,864.4   3,190.4   3,506.2   4,010.1   4,023.4   \n",
       "4  11,561.8  14,014.8  13,462.3  15,353.3  18,195.9  20,182.9  22,781.1   \n",
       "\n",
       "       2014      2015      2016      2017  \n",
       "0   1,510.1   1,199.1   1,207.6   1,271.9  \n",
       "1      16.9      16.3      16.5      17.4  \n",
       "2   1,334.5   1,391.5   1,453.8   1,682.6  \n",
       "3   3,625.6   3,142.9   3,007.0   3,182.8  \n",
       "4  23,931.4  22,897.1  21,860.2  23,050.5  "
      ]
     },
     "execution_count": 18,
     "metadata": {},
     "output_type": "execute_result"
    }
   ],
   "source": [
    "comm.head()"
   ]
  },
  {
   "cell_type": "markdown",
   "metadata": {},
   "source": [
    "Let's see how our data is formatted:"
   ]
  },
  {
   "cell_type": "code",
   "execution_count": 19,
   "metadata": {},
   "outputs": [
    {
     "data": {
      "text/plain": [
       "array([['Alabama', '574.6', '673.2', '530.0', '719.5', '724.4', '771.5',\n",
       "        '695.6', '839.7', '1,050.4', '1,040.7', '1,131.7', '1,405.0',\n",
       "        '1,469.6', '1,587.3', '1,510.1', '1,199.1', '1,207.6', '1,271.9']],\n",
       "      dtype=object)"
      ]
     },
     "execution_count": 19,
     "metadata": {},
     "output_type": "execute_result"
    }
   ],
   "source": [
    "comm.loc[comm['State'] == 'Alabama'].values"
   ]
  },
  {
   "cell_type": "markdown",
   "metadata": {},
   "source": [
    "A few things to note about this dataset that might cause us problems:\n",
    " 1. we note that these are formatted as strings - this means we'll have to do some formatting when we plot data\n",
    " 1. also that the state name is the first column and not a number we'll also have to take care of this too"
   ]
  },
  {
   "cell_type": "markdown",
   "metadata": {},
   "source": [
    "Let's first work on formatting the years correctly:"
   ]
  },
  {
   "cell_type": "code",
   "execution_count": 20,
   "metadata": {},
   "outputs": [
    {
     "data": {
      "text/plain": [
       "array([2000, 2001, 2002, 2003, 2004, 2005, 2006, 2007, 2008, 2009, 2010,\n",
       "       2011, 2012, 2013, 2014, 2015, 2016, 2017])"
      ]
     },
     "execution_count": 20,
     "metadata": {},
     "output_type": "execute_result"
    }
   ],
   "source": [
    "# grab years\n",
    "years = list(comm.columns.values)\n",
    "years = np.array(years[1:]) # get rid of state\n",
    "# as numbers\n",
    "years = years.astype('int')\n",
    "years"
   ]
  },
  {
   "cell_type": "markdown",
   "metadata": {},
   "source": [
    "What we want to do, is plot out the total exports in all selected states as a function of years on a line plot.  \n",
    "\n",
    "Let's start by making a line plot for an arbitrary state as a function of time.  How to get data as a function of time?  Let's try:"
   ]
  },
  {
   "cell_type": "code",
   "execution_count": 21,
   "metadata": {},
   "outputs": [
    {
     "data": {
      "text/plain": [
       "array([['Illinois', '3,116.2', '3,317.8', '3,379.4', '3,736.9',\n",
       "        '3,781.8', '3,704.8', '4,095.2', '5,856.9', '7,619.4', '6,665.4',\n",
       "        '7,474.2', '8,608.1', '8,749.9', '7,332.5', '9,851.3', '8,038.9',\n",
       "        '8,304.9', '8,158.2']], dtype=object)"
      ]
     },
     "execution_count": 21,
     "metadata": {},
     "output_type": "execute_result"
    }
   ],
   "source": [
    "sn = 'Illinois'\n",
    "comm.loc[comm['State'] == sn].values"
   ]
  },
  {
   "cell_type": "code",
   "execution_count": 22,
   "metadata": {},
   "outputs": [
    {
     "data": {
      "text/plain": [
       "array(['Illinois', '3,116.2', '3,317.8', '3,379.4', '3,736.9', '3,781.8',\n",
       "       '3,704.8', '4,095.2', '5,856.9', '7,619.4', '6,665.4', '7,474.2',\n",
       "       '8,608.1', '8,749.9', '7,332.5', '9,851.3', '8,038.9', '8,304.9',\n",
       "       '8,158.2'], dtype=object)"
      ]
     },
     "execution_count": 22,
     "metadata": {},
     "output_type": "execute_result"
    }
   ],
   "source": [
    "# oddly shaped\n",
    "comm.loc[comm['State'] == sn].values[0]"
   ]
  },
  {
   "cell_type": "code",
   "execution_count": 23,
   "metadata": {},
   "outputs": [
    {
     "data": {
      "text/plain": [
       "array(['3,116.2', '3,317.8', '3,379.4', '3,736.9', '3,781.8', '3,704.8',\n",
       "       '4,095.2', '5,856.9', '7,619.4', '6,665.4', '7,474.2', '8,608.1',\n",
       "       '8,749.9', '7,332.5', '9,851.3', '8,038.9', '8,304.9', '8,158.2'],\n",
       "      dtype=object)"
      ]
     },
     "execution_count": 23,
     "metadata": {},
     "output_type": "execute_result"
    }
   ],
   "source": [
    "# ignore state name:\n",
    "comm.loc[comm['State'] == sn].values[0][1:]"
   ]
  },
  {
   "cell_type": "code",
   "execution_count": 24,
   "metadata": {},
   "outputs": [
    {
     "ename": "ValueError",
     "evalue": "could not convert string to float: '3,116.2'",
     "output_type": "error",
     "traceback": [
      "\u001b[0;31m---------------------------------------------------------------------------\u001b[0m",
      "\u001b[0;31mValueError\u001b[0m                                Traceback (most recent call last)",
      "\u001b[0;32m<ipython-input-24-9b2ea1ffc8c7>\u001b[0m in \u001b[0;36m<module>\u001b[0;34m\u001b[0m\n\u001b[0;32m----> 1\u001b[0;31m \u001b[0mcomm\u001b[0m\u001b[0;34m.\u001b[0m\u001b[0mloc\u001b[0m\u001b[0;34m[\u001b[0m\u001b[0mcomm\u001b[0m\u001b[0;34m[\u001b[0m\u001b[0;34m'State'\u001b[0m\u001b[0;34m]\u001b[0m \u001b[0;34m==\u001b[0m \u001b[0msn\u001b[0m\u001b[0;34m]\u001b[0m\u001b[0;34m.\u001b[0m\u001b[0mvalues\u001b[0m\u001b[0;34m[\u001b[0m\u001b[0;36m0\u001b[0m\u001b[0;34m]\u001b[0m\u001b[0;34m[\u001b[0m\u001b[0;36m1\u001b[0m\u001b[0;34m:\u001b[0m\u001b[0;34m]\u001b[0m\u001b[0;34m.\u001b[0m\u001b[0mastype\u001b[0m\u001b[0;34m(\u001b[0m\u001b[0;34m'float64'\u001b[0m\u001b[0;34m)\u001b[0m\u001b[0;34m\u001b[0m\u001b[0;34m\u001b[0m\u001b[0m\n\u001b[0m",
      "\u001b[0;31mValueError\u001b[0m: could not convert string to float: '3,116.2'"
     ]
    }
   ],
   "source": [
    "comm.loc[comm['State'] == sn].values[0][1:].astype('float64')"
   ]
  },
  {
   "cell_type": "markdown",
   "metadata": {},
   "source": [
    "Oh no!  We have to deal with the fact that we have commas in there:"
   ]
  },
  {
   "cell_type": "code",
   "execution_count": 25,
   "metadata": {},
   "outputs": [
    {
     "data": {
      "text/plain": [
       "array([3116.2, 3317.8, 3379.4, 3736.9, 3781.8, 3704.8, 4095.2, 5856.9,\n",
       "       7619.4, 6665.4, 7474.2, 8608.1, 8749.9, 7332.5, 9851.3, 8038.9,\n",
       "       8304.9, 8158.2])"
      ]
     },
     "execution_count": 25,
     "metadata": {},
     "output_type": "execute_result"
    }
   ],
   "source": [
    "exports_in = comm.loc[comm['State'] == sn].values[0][1:]\n",
    "exports_in = np.array([exports_in[i].replace(',','') for i in range(len(exports_in))])\n",
    "exports_in = exports_in.astype('float64')\n",
    "exports_in"
   ]
  },
  {
   "cell_type": "markdown",
   "metadata": {},
   "source": [
    "Finally, let's plot:"
   ]
  },
  {
   "cell_type": "code",
   "execution_count": 26,
   "metadata": {},
   "outputs": [
    {
     "data": {
      "application/vnd.jupyter.widget-view+json": {
       "model_id": "182cdfdc117a44df9cf5df21b3e6a6c2",
       "version_major": 2,
       "version_minor": 0
      },
      "text/plain": [
       "Figure(axes=[Axis(label='Total Export from State Illinois', orientation='vertical', scale=LinearScale(), side=…"
      ]
     },
     "metadata": {},
     "output_type": "display_data"
    }
   ],
   "source": [
    "# scales\n",
    "x_scl = bqplot.LinearScale() \n",
    "y_scl = bqplot.LinearScale()\n",
    "# axis\n",
    "ax_xcl = bqplot.Axis(label='Year', scale=x_scl)\n",
    "ax_ycl = bqplot.Axis(label='Total Export from State ' + sn, \n",
    "                     scale=y_scl, \n",
    "                    orientation='vertical', side='left')\n",
    "\n",
    "# marks\n",
    "lines = bqplot.Lines(x = years, y = exports_in,\n",
    "                    scales = {'x': x_scl, 'y': y_scl})\n",
    "\n",
    "# fig\n",
    "fig_lines = bqplot.Figure(marks = [lines], axes = [ax_ycl, ax_xcl])\n",
    "fig_lines"
   ]
  },
  {
   "cell_type": "markdown",
   "metadata": {},
   "source": [
    "Let's make a US state map and use that to drive updates to our line plot."
   ]
  },
  {
   "cell_type": "code",
   "execution_count": 27,
   "metadata": {},
   "outputs": [],
   "source": [
    "# (I) US STATE MAP\n",
    "\n",
    "# Scales\n",
    "sc_geo = bqplot.AlbersUSA()\n",
    "state_data = bqplot.topo_load('map_data/USStatesMap.json')\n",
    "\n",
    "# tool tip\n",
    "def_tt = bqplot.Tooltip(fields=['id', 'name'])\n",
    "\n",
    "# marks\n",
    "states_map = bqplot.Map(map_data=state_data, scales={'projection':sc_geo}, tooltip=def_tt)\n",
    "\n",
    "# interactions\n",
    "states_map.interactions = {'click': 'select', 'hover': 'tooltip'}"
   ]
  },
  {
   "cell_type": "code",
   "execution_count": 28,
   "metadata": {},
   "outputs": [],
   "source": [
    "# (II) LINE PLOT\n",
    "\n",
    "# scales\n",
    "x_scl = bqplot.LinearScale() \n",
    "y_scl = bqplot.LinearScale()\n",
    "\n",
    "# axis\n",
    "ax_xcl = bqplot.Axis(label='Year', scale=x_scl)\n",
    "ax_ycl = bqplot.Axis(label='Total Export from State NA', \n",
    "                     scale=y_scl, \n",
    "                    orientation='vertical', side='left')\n",
    "\n",
    "# lines: let's start with only zeros plotted\n",
    "lines = bqplot.Lines(x = years, y = np.zeros(len(years)),\n",
    "                    scales = {'x': x_scl, 'y': y_scl})"
   ]
  },
  {
   "cell_type": "code",
   "execution_count": 29,
   "metadata": {},
   "outputs": [],
   "source": [
    "# (III) INTERACTIONS\n",
    "\n",
    "# let do something additive for all states selected\n",
    "def get_data_value(change):\n",
    "    exports = np.zeros(len(years)) # start with zeros in exports\n",
    "    snames = '' # store what state names we are plotting\n",
    "    if change['owner'].selected is not None: # something is selected\n",
    "        for i,s in enumerate(change['owner'].selected): # for all states selected\n",
    "            sn = state_names[s == ids][0] # grab the state name, note the [0] here -> try printing out and see!\n",
    "            snames += sn + ', ' # add to our label\n",
    "            # LINE PLOT SELECTION: we did this before\n",
    "            exports_in=comm.loc[comm['State'] == sn].values[0][1:]\n",
    "            # there are \",\"'s in exports we gotta take out\n",
    "            exports_in = np.array([exports_in[i].replace(',','') for i in range(len(exports_in))])\n",
    "            exports = np.add(exports, exports_in.astype('float64')) # note we are *adding* when we select multiples\n",
    "        lines.y = exports # update export line\n",
    "        ax_ycl.label='Total Export from ' + snames # list of selected states\n",
    "    else: # we don't have states selected!\n",
    "        lines.y = np.zeros(len(exports))\n",
    "        ax_ycl.label='Total Export from NA'\n",
    "\n",
    "states_map.observe(get_data_value,'selected')"
   ]
  },
  {
   "cell_type": "code",
   "execution_count": 30,
   "metadata": {},
   "outputs": [],
   "source": [
    "# (IV) CREATE FIGS\n",
    "fig_map = bqplot.Figure(marks=[states_map], title='US States Map Example',\n",
    "                  fig_margin={'top': 0, 'bottom': 0, 'left': 0, 'right': 0})\n",
    "\n",
    "fig_lines = bqplot.Figure(marks = [lines], \n",
    "                          axes = [ax_ycl, ax_xcl])"
   ]
  },
  {
   "cell_type": "code",
   "execution_count": 31,
   "metadata": {},
   "outputs": [
    {
     "data": {
      "application/vnd.jupyter.widget-view+json": {
       "model_id": "2f80735db08f4b6eb4e0243d6bfec9f0",
       "version_major": 2,
       "version_minor": 0
      },
      "text/plain": [
       "HBox(children=(Figure(fig_margin={'top': 0, 'bottom': 0, 'left': 0, 'right': 0}, layout=Layout(min_width='500p…"
      ]
     },
     "metadata": {},
     "output_type": "display_data"
    }
   ],
   "source": [
    "# (V) Display\n",
    "fig_map.layout.min_width='500px'\n",
    "fig_lines.layout.min_width='500px'\n",
    "\n",
    "myDashboard = ipywidgets.HBox([fig_map,fig_lines])\n",
    "myDashboard"
   ]
  },
  {
   "cell_type": "markdown",
   "metadata": {},
   "source": [
    "### What about multiple lines in selected?"
   ]
  },
  {
   "cell_type": "code",
   "execution_count": 32,
   "metadata": {},
   "outputs": [],
   "source": [
    "# (I) US STATE MAP\n",
    "\n",
    "# Scales\n",
    "sc_geo = bqplot.AlbersUSA()\n",
    "state_data = bqplot.topo_load('map_data/USStatesMap.json')\n",
    "\n",
    "# tool tip\n",
    "def_tt = bqplot.Tooltip(fields=['id', 'name'])\n",
    "\n",
    "# marks\n",
    "states_map = bqplot.Map(map_data=state_data, scales={'projection':sc_geo}, tooltip=def_tt)\n",
    "\n",
    "# interactions\n",
    "states_map.interactions = {'click': 'select', 'hover': 'tooltip'}\n",
    "\n",
    "# (II) INITIAL LINE PLOT\n",
    "\n",
    "# scales\n",
    "x_scl = bqplot.LinearScale() \n",
    "y_scl = bqplot.LinearScale()\n",
    "\n",
    "# axis\n",
    "ax_xcl = bqplot.Axis(label='Year', scale=x_scl)\n",
    "ax_ycl = bqplot.Axis(label='Total Export from State NA', \n",
    "                     scale=y_scl, \n",
    "                    orientation='vertical', side='left')\n",
    "\n",
    "# lines: let's start with only zeros plotted\n",
    "lines = bqplot.Lines(x = years, y = np.zeros(len(years)),\n",
    "                    scales = {'x': x_scl, 'y': y_scl})"
   ]
  },
  {
   "cell_type": "code",
   "execution_count": 33,
   "metadata": {},
   "outputs": [],
   "source": [
    "# (III) INTERACTIONS -- more complex\n",
    "\n",
    "# let do something additive for all states selected\n",
    "def get_data_value(change):\n",
    "    snames = '' # store what state names we are plotting\n",
    "    if change['owner'].selected is not None: # something is selected\n",
    "        ll = []\n",
    "        for i,s in enumerate(change['owner'].selected): # for all states selected\n",
    "            sn = state_names[s == ids][0] # grab the state name, note the [0] here -> try printing out and see!\n",
    "            snames += sn + ', ' # add to our label\n",
    "            # LINE PLOT SELECTION: we did this before\n",
    "            exports_in=comm.loc[comm['State'] == sn].values[0][1:]\n",
    "            # there are \",\"'s in exports we gotta take out\n",
    "            exports_in = np.array([exports_in[i].replace(',','') for i in range(len(exports_in))])\n",
    "            ll.append(bqplot.Lines(x = years, y = exports_in, scales = {'x': x_scl, 'y': y_scl}))           \n",
    "        fig_lines.marks = ll # update export line\n",
    "        ax_ycl.label='Total Export from ' + snames # list of selected states\n",
    "    else: # we don't have states selected!\n",
    "        lines = bqplot.Lines(x = years, y = np.zeros(len(years)), scales = {'x': x_scl, 'y': y_scl})             \n",
    "        fig_lines.marks = [lines]\n",
    "        ax_ycl.label='Total Export from NA'\n",
    "\n",
    "states_map.observe(get_data_value,'selected')"
   ]
  },
  {
   "cell_type": "code",
   "execution_count": 34,
   "metadata": {},
   "outputs": [],
   "source": [
    "# (IV) CREATE FIGS\n",
    "fig_map = bqplot.Figure(marks=[states_map], title='US States Map Example',\n",
    "                  fig_margin={'top': 0, 'bottom': 0, 'left': 0, 'right': 0})\n",
    "\n",
    "fig_lines = bqplot.Figure(marks = [lines], \n",
    "                          axes = [ax_ycl, ax_xcl])"
   ]
  },
  {
   "cell_type": "code",
   "execution_count": 35,
   "metadata": {},
   "outputs": [
    {
     "data": {
      "application/vnd.jupyter.widget-view+json": {
       "model_id": "cf671c3308f74ad59f13f4d9aed40fe2",
       "version_major": 2,
       "version_minor": 0
      },
      "text/plain": [
       "HBox(children=(Figure(fig_margin={'top': 0, 'bottom': 0, 'left': 0, 'right': 0}, layout=Layout(min_width='500p…"
      ]
     },
     "metadata": {},
     "output_type": "display_data"
    }
   ],
   "source": [
    "# (V) Display\n",
    "fig_map.layout.min_width='500px'\n",
    "fig_lines.layout.min_width='500px'\n",
    "\n",
    "myDashboard = ipywidgets.HBox([fig_map,fig_lines])\n",
    "myDashboard"
   ]
  },
  {
   "cell_type": "markdown",
   "metadata": {},
   "source": [
    "Close, but not quite: colors aren't great and neither are scales!  Let's do better:"
   ]
  },
  {
   "cell_type": "code",
   "execution_count": 36,
   "metadata": {},
   "outputs": [
    {
     "data": {
      "text/plain": [
       "(51, 19)"
      ]
     },
     "execution_count": 36,
     "metadata": {},
     "output_type": "execute_result"
    }
   ],
   "source": [
    "comm.values.shape"
   ]
  },
  {
   "cell_type": "code",
   "execution_count": 37,
   "metadata": {},
   "outputs": [
    {
     "data": {
      "text/plain": [
       "array([['574.6', '673.2', '530.0', '719.5', '724.4', '771.5', '695.6',\n",
       "        '839.7', '1,050.4', '1,040.7', '1,131.7', '1,405.0', '1,469.6',\n",
       "        '1,587.3', '1,510.1', '1,199.1', '1,207.6', '1,271.9'],\n",
       "       ['6.3', '6.9', '6.5', '8.3', '8.4', '9.8', '9.5', '10.2', '10.6',\n",
       "        '10.3', '11.5', '12.9', '13.4', '14.5', '16.9', '16.3', '16.5',\n",
       "        '17.4'],\n",
       "       ['485.9', '467.1', '511.8', '552.6', '632.1', '663.5', '706.0',\n",
       "        '843.8', '1,014.4', '851.0', '1,070.0', '1,514.8', '1,335.5',\n",
       "        '1,435.6', '1,334.5', '1,391.5', '1,453.8', '1,682.6'],\n",
       "       ['1,306.3', '1,346.9', '1,327.7', '1,801.0', '1,914.8', '1,937.8',\n",
       "        '2,050.7', '2,606.1', '3,514.1', '2,864.4', '3,190.4', '3,506.2',\n",
       "        '4,010.1', '4,023.4', '3,625.6', '3,142.9', '3,007.0', '3,182.8'],\n",
       "       ['6,852.6', '7,088.0', '7,210.3', '7,848.4', '8,703.1', '9,679.4',\n",
       "        '10,351.5', '11,561.8', '14,014.8', '13,462.3', '15,353.3',\n",
       "        '18,195.9', '20,182.9', '22,781.1', '23,931.4', '22,897.1',\n",
       "        '21,860.2', '23,050.5'],\n",
       "       ['892.6', '918.0', '918.6', '872.5', '739.6', '830.2', '965.9',\n",
       "        '1,285.9', '1,474.5', '1,232.3', '1,510.4', '1,860.3', '1,722.3',\n",
       "        '1,640.7', '1,796.2', '1,590.9', '1,541.5', '1,701.8'],\n",
       "       ['132.1', '128.6', '131.0', '130.2', '134.7', '152.8', '160.4',\n",
       "        '193.4', '193.6', '187.5', '213.4', '238.3', '249.1', '252.5',\n",
       "        '259.6', '263.8', '249.1', '248.4'],\n",
       "       ['130.7', '148.3', '122.2', '120.7', '136.9', '141.0', '137.8',\n",
       "        '187.2', '239.8', '231.0', '241.5', '269.3', '311.1', '308.2',\n",
       "        '322.9', '258.6', '257.9', '267.8'],\n",
       "       ['1,883.2', '1,857.4', '1,797.3', '1,882.0', '1,877.0', '2,094.8',\n",
       "        '2,275.8', '2,608.0', '2,803.7', '2,564.9', '2,962.6', '3,334.7',\n",
       "        '3,645.6', '3,659.1', '3,648.2', '3,433.7', '3,317.3', '3,225.2'],\n",
       "       ['1,301.5', '1,321.3', '1,099.2', '1,330.3', '1,473.3', '1,477.4',\n",
       "        '1,511.4', '1,908.0', '2,284.0', '2,102.3', '2,584.0', '3,214.4',\n",
       "        '3,246.9', '3,598.6', '2,995.0', '2,819.2', '2,881.7', '2,803.8'],\n",
       "       ['151.0', '158.0', '152.2', '159.4', '164.1', '185.8', '198.6',\n",
       "        '211.4', '257.7', '275.0', '308.5', '363.5', '383.8', '365.5',\n",
       "        '366.7', '356.5', '366.2', '370.9'],\n",
       "       ['718.1', '738.7', '769.2', '720.0', '775.8', '822.0', '924.1',\n",
       "        '1,217.1', '1,483.6', '1,161.4', '1,489.7', '2,013.8', '2,051.5',\n",
       "        '2,292.0', '2,225.5', '1,818.3', '1,871.6', '1,992.9'],\n",
       "       ['3,116.2', '3,317.8', '3,379.4', '3,736.9', '3,781.8', '3,704.8',\n",
       "        '4,095.2', '5,856.9', '7,619.4', '6,665.4', '7,474.2', '8,608.1',\n",
       "        '8,749.9', '7,332.5', '9,851.3', '8,038.9', '8,304.9', '8,158.2'],\n",
       "       ['1,710.5', '2,014.0', '1,804.3', '1,851.5', '2,229.0', '1,903.1',\n",
       "        '2,398.7', '3,244.3', '4,383.7', '3,781.5', '4,297.7', '4,998.4',\n",
       "        '5,059.8', '4,550.3', '5,807.5', '4,673.3', '4,499.1', '4,600.3'],\n",
       "       ['3,476.0', '3,504.1', '3,939.0', '4,354.3', '4,250.2', '4,408.1',\n",
       "        '5,271.7', '6,832.2', '9,836.9', '8,325.2', '9,368.9',\n",
       "        '10,744.2', '11,552.3', '10,344.2', '11,191.7', '9,961.6',\n",
       "        '10,970.3', '10,294.9'],\n",
       "       ['1,955.0', '1,991.1', '2,051.7', '2,269.7', '1,909.2', '2,211.2',\n",
       "        '2,334.7', '3,401.2', '4,158.1', '3,572.4', '4,675.9', '4,656.1',\n",
       "        '4,410.2', '4,874.4', '4,635.1', '4,165.0', '4,721.0', '4,831.1'],\n",
       "       ['1,275.4', '1,279.1', '1,090.9', '1,150.1', '1,238.5', '1,295.6',\n",
       "        '1,433.5', '1,675.9', '1,403.6', '1,361.5', '1,515.6', '1,767.6',\n",
       "        '1,803.9', '2,361.0', '2,429.3', '2,099.2', '2,058.6', '2,139.8'],\n",
       "       ['614.6', '606.0', '596.3', '792.0', '799.1', '779.0', '824.4',\n",
       "        '1,133.6', '1,311.2', '1,181.8', '1,512.1', '1,745.9', '1,934.6',\n",
       "        '1,852.9', '1,851.8', '1,561.6', '1,325.6', '1,476.8'],\n",
       "       ['143.2', '143.4', '118.7', '118.1', '120.6', '129.0', '144.8',\n",
       "        '164.5', '194.0', '182.6', '236.0', '273.8', '279.7', '287.5',\n",
       "        '287.0', '252.7', '247.0', '262.9'],\n",
       "       ['338.2', '365.2', '315.8', '279.9', '323.8', '315.9', '336.9',\n",
       "        '426.8', '530.6', '514.3', '565.4', '623.3', '725.8', '755.6',\n",
       "        '755.1', '655.6', '647.1', '653.8'],\n",
       "       ['106.1', '99.1', '107.7', '111.3', '117.6', '121.2', '142.6',\n",
       "        '170.3', '210.0', '178.6', '197.7', '230.6', '218.7', '206.7',\n",
       "        '182.4', '172.5', '164.3', '171.4'],\n",
       "       ['911.4', '972.2', '964.6', '1,104.1', '1,138.3', '1,149.1',\n",
       "        '1,434.7', '1,827.6', '2,317.5', '1,886.6', '2,355.4', '3,002.0',\n",
       "        '2,990.2', '3,145.1', '3,101.3', '2,857.4', '2,843.8', '2,710.3'],\n",
       "       ['2,207.2', '2,210.0', '2,517.6', '2,844.5', '2,811.6', '2,719.7',\n",
       "        '3,511.7', '4,453.7', '6,666.6', '5,107.5', '6,112.0', '7,044.6',\n",
       "        '7,800.5', '7,908.4', '7,384.4', '6,297.3', '6,991.0', '6,869.0'],\n",
       "       ['750.1', '836.6', '776.6', '1,137.1', '1,156.6', '1,086.0',\n",
       "        '1,144.7', '1,461.5', '1,799.8', '1,602.4', '1,785.8', '2,096.6',\n",
       "        '2,567.6', '2,356.7', '2,333.7', '1,858.4', '1,811.3', '2,004.8'],\n",
       "       ['1,348.1', '1,461.5', '1,308.8', '1,713.3', '1,744.6', '1,697.2',\n",
       "        '1,860.8', '2,589.8', '3,562.4', '2,944.8', '3,486.4', '4,049.1',\n",
       "        '3,880.5', '3,927.2', '4,344.4', '3,612.8', '3,553.7', '4,027.3'],\n",
       "       ['503.6', '461.1', '502.6', '515.9', '628.7', '638.7', '668.4',\n",
       "        '946.5', '1,127.8', '816.5', '1,079.7', '1,716.7', '1,261.3',\n",
       "        '1,608.2', '1,552.6', '1,187.1', '1,259.7', '1,226.1'],\n",
       "       ['2,300.5', '2,431.6', '2,486.9', '2,857.2', '2,349.2', '2,496.3',\n",
       "        '3,081.7', '4,184.4', '5,467.5', '4,991.3', '5,338.0', '7,248.6',\n",
       "        '6,791.3', '6,377.7', '7,240.3', '6,467.2', '6,677.2', '6,397.4'],\n",
       "       ['65.5', '69.7', '57.2', '59.9', '55.1', '63.4', '77.5', '83.9',\n",
       "        '101.9', '97.5', '111.1', '142.9', '135.7', '145.0', '175.8',\n",
       "        '142.4', '120.3', '132.9'],\n",
       "       ['32.6', '33.1', '32.0', '35.5', '37.4', '38.2', '42.5', '51.8',\n",
       "        '65.3', '58.9', '65.1', '72.0', '72.4', '79.0', '84.2', '80.7',\n",
       "        '74.5', '75.6'],\n",
       "       ['246.5', '251.2', '251.5', '261.8', '267.2', '291.4', '335.9',\n",
       "        '396.8', '382.0', '364.9', '398.9', '458.8', '483.0', '471.1',\n",
       "        '514.1', '524.5', '521.7', '530.9'],\n",
       "       ['322.1', '329.5', '288.0', '316.7', '318.2', '369.0', '397.1',\n",
       "        '489.6', '535.9', '488.3', '681.7', '782.8', '733.1', '734.6',\n",
       "        '738.9', '739.6', '711.3', '761.7'],\n",
       "       ['500.5', '512.0', '500.0', '485.5', '541.2', '579.2', '672.4',\n",
       "        '870.1', '1,202.5', '990.4', '1,223.7', '1,421.7', '1,482.4',\n",
       "        '1,619.1', '1,681.1', '1,453.6', '1,415.8', '1,422.9'],\n",
       "       ['1,839.9', '2,020.0', '1,721.4', '1,832.3', '2,159.7', '2,091.1',\n",
       "        '2,356.5', '2,660.6', '3,317.0', '3,055.0', '3,381.8', '3,890.3',\n",
       "        '4,102.9', '4,322.1', '4,078.4', '3,573.0', '3,389.1', '3,624.9'],\n",
       "       ['1,232.5', '1,356.6', '1,622.4', '1,686.6', '1,718.1', '1,657.9',\n",
       "        '1,920.6', '3,074.4', '4,025.6', '2,967.6', '3,704.7', '4,328.9',\n",
       "        '4,437.2', '4,536.1', '4,914.4', '3,822.8', '4,629.5', '4,535.3'],\n",
       "       ['1,461.4', '1,524.9', '1,451.6', '1,552.8', '1,699.2', '1,661.2',\n",
       "        '1,942.4', '2,442.4', '3,398.5', '2,832.8', '3,408.0', '3,602.1',\n",
       "        '4,359.5', '4,428.6', '4,257.2', '3,688.4', '3,659.8', '3,633.6'],\n",
       "       ['817.7', '804.2', '823.2', '918.5', '956.7', '1,001.9', '904.2',\n",
       "        '1,206.9', '1,719.6', '1,105.8', '1,542.3', '1,698.7', '1,789.5',\n",
       "        '1,851.5', '1,633.8', '1,508.1', '1,566.0', '1,812.8'],\n",
       "       ['800.0', '855.7', '795.8', '921.3', '997.0', '1,010.9',\n",
       "        '1,236.9', '1,429.2', '1,489.6', '1,255.2', '1,353.9', '1,788.4',\n",
       "        '1,793.7', '2,009.8', '1,991.8', '1,862.2', '1,807.8', '1,865.5'],\n",
       "       ['697.0', '755.5', '700.6', '727.8', '857.5', '853.7', '948.2',\n",
       "        '1,190.8', '1,513.7', '1,294.5', '1,609.6', '1,820.3', '2,060.3',\n",
       "        '2,172.8', '2,261.5', '2,016.0', '1,942.0', '2,019.7'],\n",
       "       ['12.5', '15.6', '16.0', '17.8', '19.0', '19.7', '21.5', '23.1',\n",
       "        '30.1', '28.7', '31.6', '34.6', '30.3', '32.7', '34.9', '34.2',\n",
       "        '34.0', '34.9'],\n",
       "       ['396.7', '432.9', '369.9', '440.6', '501.8', '477.6', '541.0',\n",
       "        '588.5', '716.9', '700.2', '805.1', '973.7', '1,023.0',\n",
       "        '1,020.8', '879.6', '791.8', '684.3', '750.9'],\n",
       "       ['1,211.9', '1,217.5', '1,199.8', '1,393.2', '1,326.1', '1,427.6',\n",
       "        '1,445.4', '2,195.6', '3,555.4', '2,879.5', '2,969.1', '3,766.3',\n",
       "        '3,777.8', '3,729.0', '4,362.9', '3,699.6', '3,951.6', '3,595.6'],\n",
       "       ['552.7', '681.7', '630.9', '855.7', '755.4', '780.8', '847.2',\n",
       "        '989.2', '1,091.9', '1,143.4', '1,242.6', '1,479.8', '1,484.6',\n",
       "        '1,717.0', '1,749.2', '1,521.7', '1,370.6', '1,487.4'],\n",
       "       ['2,695.4', '2,911.5', '2,809.2', '3,262.9', '3,566.3', '3,647.5',\n",
       "        '4,128.0', '4,925.8', '6,043.2', '4,496.0', '6,321.2', '6,776.9',\n",
       "        '5,971.0', '6,097.5', '6,269.2', '5,953.3', '6,056.7', '7,194.6'],\n",
       "       ['162.4', '174.6', '165.6', '181.0', '173.7', '202.0', '224.6',\n",
       "        '263.1', '304.3', '250.1', '328.2', '427.4', '439.5', '479.6',\n",
       "        '521.5', '417.8', '385.0', '417.8'],\n",
       "       ['48.7', '49.3', '47.7', '51.2', '55.4', '60.0', '67.0', '89.1',\n",
       "        '136.1', '108.6', '139.7', '169.4', '176.2', '214.0', '220.7',\n",
       "        '194.0', '195.8', '201.3'],\n",
       "       ['538.5', '575.6', '530.5', '560.6', '589.6', '571.3', '616.8',\n",
       "        '730.9', '871.2', '795.8', '871.5', '1,038.2', '1,179.4',\n",
       "        '1,213.9', '1,207.0', '1,031.3', '990.8', '1,017.0'],\n",
       "       ['1,313.3', '1,405.0', '1,411.7', '1,557.6', '1,650.8', '1,614.1',\n",
       "        '1,841.9', '2,402.8', '2,678.0', '2,333.3', '2,801.4', '3,650.1',\n",
       "        '3,690.1', '3,996.2', '3,801.0', '3,645.3', '3,745.8', '4,004.6'],\n",
       "       ['59.3', '65.3', '55.8', '61.3', '55.6', '62.7', '66.3', '78.4',\n",
       "        '104.6', '103.5', '114.0', '134.2', '156.9', '161.9', '168.6',\n",
       "        '140.9', '143.4', '150.3'],\n",
       "       ['920.7', '933.0', '990.8', '1,088.3', '1,127.6', '1,169.2',\n",
       "        '1,513.4', '1,815.9', '2,346.4', '1,801.8', '2,411.9', '2,928.8',\n",
       "        '3,168.2', '3,108.6', '3,094.4', '2,844.0', '2,860.6', '2,937.0'],\n",
       "       ['146.6', '159.5', '135.9', '143.1', '106.7', '111.4', '131.3',\n",
       "        '151.3', '201.6', '206.8', '235.4', '323.7', '336.9', '348.1',\n",
       "        '349.0', '300.4', '288.8', '304.3'],\n",
       "       ['51,265.5', '53,678.9', '53,144.2', '59,392.7', '61,418.1',\n",
       "        '63,182.3', '70,950.4', '89,991.8', '114,761.4', '98,453.9',\n",
       "        '115,820.1', '136,444.5', '141,531.6', '144,336.2', '149,969.6',\n",
       "        '133,034.2', '134,650.1', '138,151.6']], dtype=object)"
      ]
     },
     "execution_count": 37,
     "metadata": {},
     "output_type": "execute_result"
    }
   ],
   "source": [
    "comm.values[:,1:]"
   ]
  },
  {
   "cell_type": "code",
   "execution_count": 38,
   "metadata": {},
   "outputs": [
    {
     "data": {
      "text/plain": [
       "array([5.746000e+02, 6.732000e+02, 5.300000e+02, 7.195000e+02,\n",
       "       7.244000e+02, 7.715000e+02, 6.956000e+02, 8.397000e+02,\n",
       "       1.050400e+03, 1.040700e+03, 1.131700e+03, 1.405000e+03,\n",
       "       1.469600e+03, 1.587300e+03, 1.510100e+03, 1.199100e+03,\n",
       "       1.207600e+03, 1.271900e+03, 6.300000e+00, 6.900000e+00,\n",
       "       6.500000e+00, 8.300000e+00, 8.400000e+00, 9.800000e+00,\n",
       "       9.500000e+00, 1.020000e+01, 1.060000e+01, 1.030000e+01,\n",
       "       1.150000e+01, 1.290000e+01, 1.340000e+01, 1.450000e+01,\n",
       "       1.690000e+01, 1.630000e+01, 1.650000e+01, 1.740000e+01,\n",
       "       4.859000e+02, 4.671000e+02, 5.118000e+02, 5.526000e+02,\n",
       "       6.321000e+02, 6.635000e+02, 7.060000e+02, 8.438000e+02,\n",
       "       1.014400e+03, 8.510000e+02, 1.070000e+03, 1.514800e+03,\n",
       "       1.335500e+03, 1.435600e+03, 1.334500e+03, 1.391500e+03,\n",
       "       1.453800e+03, 1.682600e+03, 1.306300e+03, 1.346900e+03,\n",
       "       1.327700e+03, 1.801000e+03, 1.914800e+03, 1.937800e+03,\n",
       "       2.050700e+03, 2.606100e+03, 3.514100e+03, 2.864400e+03,\n",
       "       3.190400e+03, 3.506200e+03, 4.010100e+03, 4.023400e+03,\n",
       "       3.625600e+03, 3.142900e+03, 3.007000e+03, 3.182800e+03,\n",
       "       6.852600e+03, 7.088000e+03, 7.210300e+03, 7.848400e+03,\n",
       "       8.703100e+03, 9.679400e+03, 1.035150e+04, 1.156180e+04,\n",
       "       1.401480e+04, 1.346230e+04, 1.535330e+04, 1.819590e+04,\n",
       "       2.018290e+04, 2.278110e+04, 2.393140e+04, 2.289710e+04,\n",
       "       2.186020e+04, 2.305050e+04, 8.926000e+02, 9.180000e+02,\n",
       "       9.186000e+02, 8.725000e+02, 7.396000e+02, 8.302000e+02,\n",
       "       9.659000e+02, 1.285900e+03, 1.474500e+03, 1.232300e+03,\n",
       "       1.510400e+03, 1.860300e+03, 1.722300e+03, 1.640700e+03,\n",
       "       1.796200e+03, 1.590900e+03, 1.541500e+03, 1.701800e+03,\n",
       "       1.321000e+02, 1.286000e+02, 1.310000e+02, 1.302000e+02,\n",
       "       1.347000e+02, 1.528000e+02, 1.604000e+02, 1.934000e+02,\n",
       "       1.936000e+02, 1.875000e+02, 2.134000e+02, 2.383000e+02,\n",
       "       2.491000e+02, 2.525000e+02, 2.596000e+02, 2.638000e+02,\n",
       "       2.491000e+02, 2.484000e+02, 1.307000e+02, 1.483000e+02,\n",
       "       1.222000e+02, 1.207000e+02, 1.369000e+02, 1.410000e+02,\n",
       "       1.378000e+02, 1.872000e+02, 2.398000e+02, 2.310000e+02,\n",
       "       2.415000e+02, 2.693000e+02, 3.111000e+02, 3.082000e+02,\n",
       "       3.229000e+02, 2.586000e+02, 2.579000e+02, 2.678000e+02,\n",
       "       1.883200e+03, 1.857400e+03, 1.797300e+03, 1.882000e+03,\n",
       "       1.877000e+03, 2.094800e+03, 2.275800e+03, 2.608000e+03,\n",
       "       2.803700e+03, 2.564900e+03, 2.962600e+03, 3.334700e+03,\n",
       "       3.645600e+03, 3.659100e+03, 3.648200e+03, 3.433700e+03,\n",
       "       3.317300e+03, 3.225200e+03, 1.301500e+03, 1.321300e+03,\n",
       "       1.099200e+03, 1.330300e+03, 1.473300e+03, 1.477400e+03,\n",
       "       1.511400e+03, 1.908000e+03, 2.284000e+03, 2.102300e+03,\n",
       "       2.584000e+03, 3.214400e+03, 3.246900e+03, 3.598600e+03,\n",
       "       2.995000e+03, 2.819200e+03, 2.881700e+03, 2.803800e+03,\n",
       "       1.510000e+02, 1.580000e+02, 1.522000e+02, 1.594000e+02,\n",
       "       1.641000e+02, 1.858000e+02, 1.986000e+02, 2.114000e+02,\n",
       "       2.577000e+02, 2.750000e+02, 3.085000e+02, 3.635000e+02,\n",
       "       3.838000e+02, 3.655000e+02, 3.667000e+02, 3.565000e+02,\n",
       "       3.662000e+02, 3.709000e+02, 7.181000e+02, 7.387000e+02,\n",
       "       7.692000e+02, 7.200000e+02, 7.758000e+02, 8.220000e+02,\n",
       "       9.241000e+02, 1.217100e+03, 1.483600e+03, 1.161400e+03,\n",
       "       1.489700e+03, 2.013800e+03, 2.051500e+03, 2.292000e+03,\n",
       "       2.225500e+03, 1.818300e+03, 1.871600e+03, 1.992900e+03,\n",
       "       3.116200e+03, 3.317800e+03, 3.379400e+03, 3.736900e+03,\n",
       "       3.781800e+03, 3.704800e+03, 4.095200e+03, 5.856900e+03,\n",
       "       7.619400e+03, 6.665400e+03, 7.474200e+03, 8.608100e+03,\n",
       "       8.749900e+03, 7.332500e+03, 9.851300e+03, 8.038900e+03,\n",
       "       8.304900e+03, 8.158200e+03, 1.710500e+03, 2.014000e+03,\n",
       "       1.804300e+03, 1.851500e+03, 2.229000e+03, 1.903100e+03,\n",
       "       2.398700e+03, 3.244300e+03, 4.383700e+03, 3.781500e+03,\n",
       "       4.297700e+03, 4.998400e+03, 5.059800e+03, 4.550300e+03,\n",
       "       5.807500e+03, 4.673300e+03, 4.499100e+03, 4.600300e+03,\n",
       "       3.476000e+03, 3.504100e+03, 3.939000e+03, 4.354300e+03,\n",
       "       4.250200e+03, 4.408100e+03, 5.271700e+03, 6.832200e+03,\n",
       "       9.836900e+03, 8.325200e+03, 9.368900e+03, 1.074420e+04,\n",
       "       1.155230e+04, 1.034420e+04, 1.119170e+04, 9.961600e+03,\n",
       "       1.097030e+04, 1.029490e+04, 1.955000e+03, 1.991100e+03,\n",
       "       2.051700e+03, 2.269700e+03, 1.909200e+03, 2.211200e+03,\n",
       "       2.334700e+03, 3.401200e+03, 4.158100e+03, 3.572400e+03,\n",
       "       4.675900e+03, 4.656100e+03, 4.410200e+03, 4.874400e+03,\n",
       "       4.635100e+03, 4.165000e+03, 4.721000e+03, 4.831100e+03,\n",
       "       1.275400e+03, 1.279100e+03, 1.090900e+03, 1.150100e+03,\n",
       "       1.238500e+03, 1.295600e+03, 1.433500e+03, 1.675900e+03,\n",
       "       1.403600e+03, 1.361500e+03, 1.515600e+03, 1.767600e+03,\n",
       "       1.803900e+03, 2.361000e+03, 2.429300e+03, 2.099200e+03,\n",
       "       2.058600e+03, 2.139800e+03, 6.146000e+02, 6.060000e+02,\n",
       "       5.963000e+02, 7.920000e+02, 7.991000e+02, 7.790000e+02,\n",
       "       8.244000e+02, 1.133600e+03, 1.311200e+03, 1.181800e+03,\n",
       "       1.512100e+03, 1.745900e+03, 1.934600e+03, 1.852900e+03,\n",
       "       1.851800e+03, 1.561600e+03, 1.325600e+03, 1.476800e+03,\n",
       "       1.432000e+02, 1.434000e+02, 1.187000e+02, 1.181000e+02,\n",
       "       1.206000e+02, 1.290000e+02, 1.448000e+02, 1.645000e+02,\n",
       "       1.940000e+02, 1.826000e+02, 2.360000e+02, 2.738000e+02,\n",
       "       2.797000e+02, 2.875000e+02, 2.870000e+02, 2.527000e+02,\n",
       "       2.470000e+02, 2.629000e+02, 3.382000e+02, 3.652000e+02,\n",
       "       3.158000e+02, 2.799000e+02, 3.238000e+02, 3.159000e+02,\n",
       "       3.369000e+02, 4.268000e+02, 5.306000e+02, 5.143000e+02,\n",
       "       5.654000e+02, 6.233000e+02, 7.258000e+02, 7.556000e+02,\n",
       "       7.551000e+02, 6.556000e+02, 6.471000e+02, 6.538000e+02,\n",
       "       1.061000e+02, 9.910000e+01, 1.077000e+02, 1.113000e+02,\n",
       "       1.176000e+02, 1.212000e+02, 1.426000e+02, 1.703000e+02,\n",
       "       2.100000e+02, 1.786000e+02, 1.977000e+02, 2.306000e+02,\n",
       "       2.187000e+02, 2.067000e+02, 1.824000e+02, 1.725000e+02,\n",
       "       1.643000e+02, 1.714000e+02, 9.114000e+02, 9.722000e+02,\n",
       "       9.646000e+02, 1.104100e+03, 1.138300e+03, 1.149100e+03,\n",
       "       1.434700e+03, 1.827600e+03, 2.317500e+03, 1.886600e+03,\n",
       "       2.355400e+03, 3.002000e+03, 2.990200e+03, 3.145100e+03,\n",
       "       3.101300e+03, 2.857400e+03, 2.843800e+03, 2.710300e+03,\n",
       "       2.207200e+03, 2.210000e+03, 2.517600e+03, 2.844500e+03,\n",
       "       2.811600e+03, 2.719700e+03, 3.511700e+03, 4.453700e+03,\n",
       "       6.666600e+03, 5.107500e+03, 6.112000e+03, 7.044600e+03,\n",
       "       7.800500e+03, 7.908400e+03, 7.384400e+03, 6.297300e+03,\n",
       "       6.991000e+03, 6.869000e+03, 7.501000e+02, 8.366000e+02,\n",
       "       7.766000e+02, 1.137100e+03, 1.156600e+03, 1.086000e+03,\n",
       "       1.144700e+03, 1.461500e+03, 1.799800e+03, 1.602400e+03,\n",
       "       1.785800e+03, 2.096600e+03, 2.567600e+03, 2.356700e+03,\n",
       "       2.333700e+03, 1.858400e+03, 1.811300e+03, 2.004800e+03,\n",
       "       1.348100e+03, 1.461500e+03, 1.308800e+03, 1.713300e+03,\n",
       "       1.744600e+03, 1.697200e+03, 1.860800e+03, 2.589800e+03,\n",
       "       3.562400e+03, 2.944800e+03, 3.486400e+03, 4.049100e+03,\n",
       "       3.880500e+03, 3.927200e+03, 4.344400e+03, 3.612800e+03,\n",
       "       3.553700e+03, 4.027300e+03, 5.036000e+02, 4.611000e+02,\n",
       "       5.026000e+02, 5.159000e+02, 6.287000e+02, 6.387000e+02,\n",
       "       6.684000e+02, 9.465000e+02, 1.127800e+03, 8.165000e+02,\n",
       "       1.079700e+03, 1.716700e+03, 1.261300e+03, 1.608200e+03,\n",
       "       1.552600e+03, 1.187100e+03, 1.259700e+03, 1.226100e+03,\n",
       "       2.300500e+03, 2.431600e+03, 2.486900e+03, 2.857200e+03,\n",
       "       2.349200e+03, 2.496300e+03, 3.081700e+03, 4.184400e+03,\n",
       "       5.467500e+03, 4.991300e+03, 5.338000e+03, 7.248600e+03,\n",
       "       6.791300e+03, 6.377700e+03, 7.240300e+03, 6.467200e+03,\n",
       "       6.677200e+03, 6.397400e+03, 6.550000e+01, 6.970000e+01,\n",
       "       5.720000e+01, 5.990000e+01, 5.510000e+01, 6.340000e+01,\n",
       "       7.750000e+01, 8.390000e+01, 1.019000e+02, 9.750000e+01,\n",
       "       1.111000e+02, 1.429000e+02, 1.357000e+02, 1.450000e+02,\n",
       "       1.758000e+02, 1.424000e+02, 1.203000e+02, 1.329000e+02,\n",
       "       3.260000e+01, 3.310000e+01, 3.200000e+01, 3.550000e+01,\n",
       "       3.740000e+01, 3.820000e+01, 4.250000e+01, 5.180000e+01,\n",
       "       6.530000e+01, 5.890000e+01, 6.510000e+01, 7.200000e+01,\n",
       "       7.240000e+01, 7.900000e+01, 8.420000e+01, 8.070000e+01,\n",
       "       7.450000e+01, 7.560000e+01, 2.465000e+02, 2.512000e+02,\n",
       "       2.515000e+02, 2.618000e+02, 2.672000e+02, 2.914000e+02,\n",
       "       3.359000e+02, 3.968000e+02, 3.820000e+02, 3.649000e+02,\n",
       "       3.989000e+02, 4.588000e+02, 4.830000e+02, 4.711000e+02,\n",
       "       5.141000e+02, 5.245000e+02, 5.217000e+02, 5.309000e+02,\n",
       "       3.221000e+02, 3.295000e+02, 2.880000e+02, 3.167000e+02,\n",
       "       3.182000e+02, 3.690000e+02, 3.971000e+02, 4.896000e+02,\n",
       "       5.359000e+02, 4.883000e+02, 6.817000e+02, 7.828000e+02,\n",
       "       7.331000e+02, 7.346000e+02, 7.389000e+02, 7.396000e+02,\n",
       "       7.113000e+02, 7.617000e+02, 5.005000e+02, 5.120000e+02,\n",
       "       5.000000e+02, 4.855000e+02, 5.412000e+02, 5.792000e+02,\n",
       "       6.724000e+02, 8.701000e+02, 1.202500e+03, 9.904000e+02,\n",
       "       1.223700e+03, 1.421700e+03, 1.482400e+03, 1.619100e+03,\n",
       "       1.681100e+03, 1.453600e+03, 1.415800e+03, 1.422900e+03,\n",
       "       1.839900e+03, 2.020000e+03, 1.721400e+03, 1.832300e+03,\n",
       "       2.159700e+03, 2.091100e+03, 2.356500e+03, 2.660600e+03,\n",
       "       3.317000e+03, 3.055000e+03, 3.381800e+03, 3.890300e+03,\n",
       "       4.102900e+03, 4.322100e+03, 4.078400e+03, 3.573000e+03,\n",
       "       3.389100e+03, 3.624900e+03, 1.232500e+03, 1.356600e+03,\n",
       "       1.622400e+03, 1.686600e+03, 1.718100e+03, 1.657900e+03,\n",
       "       1.920600e+03, 3.074400e+03, 4.025600e+03, 2.967600e+03,\n",
       "       3.704700e+03, 4.328900e+03, 4.437200e+03, 4.536100e+03,\n",
       "       4.914400e+03, 3.822800e+03, 4.629500e+03, 4.535300e+03,\n",
       "       1.461400e+03, 1.524900e+03, 1.451600e+03, 1.552800e+03,\n",
       "       1.699200e+03, 1.661200e+03, 1.942400e+03, 2.442400e+03,\n",
       "       3.398500e+03, 2.832800e+03, 3.408000e+03, 3.602100e+03,\n",
       "       4.359500e+03, 4.428600e+03, 4.257200e+03, 3.688400e+03,\n",
       "       3.659800e+03, 3.633600e+03, 8.177000e+02, 8.042000e+02,\n",
       "       8.232000e+02, 9.185000e+02, 9.567000e+02, 1.001900e+03,\n",
       "       9.042000e+02, 1.206900e+03, 1.719600e+03, 1.105800e+03,\n",
       "       1.542300e+03, 1.698700e+03, 1.789500e+03, 1.851500e+03,\n",
       "       1.633800e+03, 1.508100e+03, 1.566000e+03, 1.812800e+03,\n",
       "       8.000000e+02, 8.557000e+02, 7.958000e+02, 9.213000e+02,\n",
       "       9.970000e+02, 1.010900e+03, 1.236900e+03, 1.429200e+03,\n",
       "       1.489600e+03, 1.255200e+03, 1.353900e+03, 1.788400e+03,\n",
       "       1.793700e+03, 2.009800e+03, 1.991800e+03, 1.862200e+03,\n",
       "       1.807800e+03, 1.865500e+03, 6.970000e+02, 7.555000e+02,\n",
       "       7.006000e+02, 7.278000e+02, 8.575000e+02, 8.537000e+02,\n",
       "       9.482000e+02, 1.190800e+03, 1.513700e+03, 1.294500e+03,\n",
       "       1.609600e+03, 1.820300e+03, 2.060300e+03, 2.172800e+03,\n",
       "       2.261500e+03, 2.016000e+03, 1.942000e+03, 2.019700e+03,\n",
       "       1.250000e+01, 1.560000e+01, 1.600000e+01, 1.780000e+01,\n",
       "       1.900000e+01, 1.970000e+01, 2.150000e+01, 2.310000e+01,\n",
       "       3.010000e+01, 2.870000e+01, 3.160000e+01, 3.460000e+01,\n",
       "       3.030000e+01, 3.270000e+01, 3.490000e+01, 3.420000e+01,\n",
       "       3.400000e+01, 3.490000e+01, 3.967000e+02, 4.329000e+02,\n",
       "       3.699000e+02, 4.406000e+02, 5.018000e+02, 4.776000e+02,\n",
       "       5.410000e+02, 5.885000e+02, 7.169000e+02, 7.002000e+02,\n",
       "       8.051000e+02, 9.737000e+02, 1.023000e+03, 1.020800e+03,\n",
       "       8.796000e+02, 7.918000e+02, 6.843000e+02, 7.509000e+02,\n",
       "       1.211900e+03, 1.217500e+03, 1.199800e+03, 1.393200e+03,\n",
       "       1.326100e+03, 1.427600e+03, 1.445400e+03, 2.195600e+03,\n",
       "       3.555400e+03, 2.879500e+03, 2.969100e+03, 3.766300e+03,\n",
       "       3.777800e+03, 3.729000e+03, 4.362900e+03, 3.699600e+03,\n",
       "       3.951600e+03, 3.595600e+03, 5.527000e+02, 6.817000e+02,\n",
       "       6.309000e+02, 8.557000e+02, 7.554000e+02, 7.808000e+02,\n",
       "       8.472000e+02, 9.892000e+02, 1.091900e+03, 1.143400e+03,\n",
       "       1.242600e+03, 1.479800e+03, 1.484600e+03, 1.717000e+03,\n",
       "       1.749200e+03, 1.521700e+03, 1.370600e+03, 1.487400e+03,\n",
       "       2.695400e+03, 2.911500e+03, 2.809200e+03, 3.262900e+03,\n",
       "       3.566300e+03, 3.647500e+03, 4.128000e+03, 4.925800e+03,\n",
       "       6.043200e+03, 4.496000e+03, 6.321200e+03, 6.776900e+03,\n",
       "       5.971000e+03, 6.097500e+03, 6.269200e+03, 5.953300e+03,\n",
       "       6.056700e+03, 7.194600e+03, 1.624000e+02, 1.746000e+02,\n",
       "       1.656000e+02, 1.810000e+02, 1.737000e+02, 2.020000e+02,\n",
       "       2.246000e+02, 2.631000e+02, 3.043000e+02, 2.501000e+02,\n",
       "       3.282000e+02, 4.274000e+02, 4.395000e+02, 4.796000e+02,\n",
       "       5.215000e+02, 4.178000e+02, 3.850000e+02, 4.178000e+02,\n",
       "       4.870000e+01, 4.930000e+01, 4.770000e+01, 5.120000e+01,\n",
       "       5.540000e+01, 6.000000e+01, 6.700000e+01, 8.910000e+01,\n",
       "       1.361000e+02, 1.086000e+02, 1.397000e+02, 1.694000e+02,\n",
       "       1.762000e+02, 2.140000e+02, 2.207000e+02, 1.940000e+02,\n",
       "       1.958000e+02, 2.013000e+02, 5.385000e+02, 5.756000e+02,\n",
       "       5.305000e+02, 5.606000e+02, 5.896000e+02, 5.713000e+02,\n",
       "       6.168000e+02, 7.309000e+02, 8.712000e+02, 7.958000e+02,\n",
       "       8.715000e+02, 1.038200e+03, 1.179400e+03, 1.213900e+03,\n",
       "       1.207000e+03, 1.031300e+03, 9.908000e+02, 1.017000e+03,\n",
       "       1.313300e+03, 1.405000e+03, 1.411700e+03, 1.557600e+03,\n",
       "       1.650800e+03, 1.614100e+03, 1.841900e+03, 2.402800e+03,\n",
       "       2.678000e+03, 2.333300e+03, 2.801400e+03, 3.650100e+03,\n",
       "       3.690100e+03, 3.996200e+03, 3.801000e+03, 3.645300e+03,\n",
       "       3.745800e+03, 4.004600e+03, 5.930000e+01, 6.530000e+01,\n",
       "       5.580000e+01, 6.130000e+01, 5.560000e+01, 6.270000e+01,\n",
       "       6.630000e+01, 7.840000e+01, 1.046000e+02, 1.035000e+02,\n",
       "       1.140000e+02, 1.342000e+02, 1.569000e+02, 1.619000e+02,\n",
       "       1.686000e+02, 1.409000e+02, 1.434000e+02, 1.503000e+02,\n",
       "       9.207000e+02, 9.330000e+02, 9.908000e+02, 1.088300e+03,\n",
       "       1.127600e+03, 1.169200e+03, 1.513400e+03, 1.815900e+03,\n",
       "       2.346400e+03, 1.801800e+03, 2.411900e+03, 2.928800e+03,\n",
       "       3.168200e+03, 3.108600e+03, 3.094400e+03, 2.844000e+03,\n",
       "       2.860600e+03, 2.937000e+03, 1.466000e+02, 1.595000e+02,\n",
       "       1.359000e+02, 1.431000e+02, 1.067000e+02, 1.114000e+02,\n",
       "       1.313000e+02, 1.513000e+02, 2.016000e+02, 2.068000e+02,\n",
       "       2.354000e+02, 3.237000e+02, 3.369000e+02, 3.481000e+02,\n",
       "       3.490000e+02, 3.004000e+02, 2.888000e+02, 3.043000e+02,\n",
       "       5.126550e+04, 5.367890e+04, 5.314420e+04, 5.939270e+04,\n",
       "       6.141810e+04, 6.318230e+04, 7.095040e+04, 8.999180e+04,\n",
       "       1.147614e+05, 9.845390e+04, 1.158201e+05, 1.364445e+05,\n",
       "       1.415316e+05, 1.443362e+05, 1.499696e+05, 1.330342e+05,\n",
       "       1.346501e+05, 1.381516e+05])"
      ]
     },
     "execution_count": 38,
     "metadata": {},
     "output_type": "execute_result"
    }
   ],
   "source": [
    "exports = comm.values[:,1:].flatten()\n",
    "\n",
    "totalCom = np.array([exports[i].replace(',','') for i in range(len(exports))])\n",
    "totalCom.astype('float')"
   ]
  },
  {
   "cell_type": "code",
   "execution_count": 39,
   "metadata": {},
   "outputs": [
    {
     "data": {
      "text/plain": [
       "(6.3, 149969.6, 3943.7430283224403)"
      ]
     },
     "execution_count": 39,
     "metadata": {},
     "output_type": "execute_result"
    }
   ],
   "source": [
    "totalCom = totalCom.astype('float')\n",
    "totalCom.min(), totalCom.max(), totalCom.mean()"
   ]
  },
  {
   "cell_type": "code",
   "execution_count": 40,
   "metadata": {},
   "outputs": [],
   "source": [
    "# (I) US STATE MAP\n",
    "\n",
    "# Scales\n",
    "sc_geo = bqplot.AlbersUSA()\n",
    "state_data = bqplot.topo_load('map_data/USStatesMap.json')\n",
    "\n",
    "# tool tip\n",
    "def_tt = bqplot.Tooltip(fields=['id', 'name'])\n",
    "\n",
    "# marks\n",
    "states_map = bqplot.Map(map_data=state_data, scales={'projection':sc_geo}, tooltip=def_tt)\n",
    "\n",
    "# interactions\n",
    "states_map.interactions = {'click': 'select', 'hover': 'tooltip'}\n",
    "\n",
    "# (II) INITIAL LINE PLOT\n",
    "\n",
    "# scales\n",
    "x_scl = bqplot.LinearScale() \n",
    "y_scl = bqplot.LogScale(min=totalCom.min(), max=totalCom.max())\n",
    "\n",
    "# axis\n",
    "ax_xcl = bqplot.Axis(label='Year', scale=x_scl)\n",
    "ax_ycl = bqplot.Axis(label='Total Export from State NA', \n",
    "                     scale=y_scl, \n",
    "                    orientation='vertical', side='left')\n",
    "\n",
    "# lines: let's start with only zeros plotted\n",
    "lines = bqplot.Lines(x = years, y = np.zeros(len(years)),\n",
    "                    scales = {'x': x_scl, 'y': y_scl})"
   ]
  },
  {
   "cell_type": "code",
   "execution_count": 41,
   "metadata": {},
   "outputs": [],
   "source": [
    "# (III) INTERACTIONS -- more complex\n",
    "\n",
    "# let do something additive for all states selected\n",
    "def get_data_value(change):\n",
    "    snames = '' # store what state names we are plotting\n",
    "    if change['owner'].selected is not None: # something is selected\n",
    "        ll = []\n",
    "        for i,s in enumerate(change['owner'].selected): # for all states selected\n",
    "            sn = state_names[s == ids][0] # grab the state name, note the [0] here -> try printing out and see!\n",
    "            snames += sn + ', ' # add to our label\n",
    "            # LINE PLOT SELECTION: we did this before\n",
    "            exports_in=comm.loc[comm['State'] == sn].values[0][1:]\n",
    "            # there are \",\"'s in exports we gotta take out\n",
    "            exports_in = np.array([exports_in[i].replace(',','') for i in range(len(exports_in))])\n",
    "            ll.append(bqplot.Lines(x = years, y = exports_in, scales = {'x': x_scl, 'y': y_scl}))           \n",
    "        fig_lines.marks = ll # update export line\n",
    "        ax_ycl.label='Total Export from ' + snames # list of selected states\n",
    "    else: # we don't have states selected!\n",
    "        lines = bqplot.Lines(x = years, y = np.zeros(len(years)), scales = {'x': x_scl, 'y': y_scl})             \n",
    "        fig_lines.marks = [lines]\n",
    "        ax_ycl.label='Total Export from NA'\n",
    "\n",
    "states_map.observe(get_data_value,'selected')"
   ]
  },
  {
   "cell_type": "code",
   "execution_count": 42,
   "metadata": {},
   "outputs": [],
   "source": [
    "# (IV) CREATE FIGS\n",
    "fig_map = bqplot.Figure(marks=[states_map], title='US States Map Example',\n",
    "                  fig_margin={'top': 0, 'bottom': 0, 'left': 0, 'right': 0})\n",
    "\n",
    "fig_lines = bqplot.Figure(marks = [lines], \n",
    "                          axes = [ax_ycl, ax_xcl])"
   ]
  },
  {
   "cell_type": "code",
   "execution_count": 43,
   "metadata": {},
   "outputs": [
    {
     "data": {
      "application/vnd.jupyter.widget-view+json": {
       "model_id": "874a33199ee94178b0e73d451755ea00",
       "version_major": 2,
       "version_minor": 0
      },
      "text/plain": [
       "HBox(children=(Figure(fig_margin={'top': 0, 'bottom': 0, 'left': 0, 'right': 0}, layout=Layout(min_width='500p…"
      ]
     },
     "metadata": {},
     "output_type": "display_data"
    }
   ],
   "source": [
    "# (V) Display\n",
    "fig_map.layout.min_width='500px'\n",
    "fig_lines.layout.min_width='500px'\n",
    "\n",
    "myDashboard = ipywidgets.HBox([fig_map,fig_lines])\n",
    "myDashboard"
   ]
  },
  {
   "cell_type": "markdown",
   "metadata": {},
   "source": [
    "But what about line colors?  How would you change the colors when you add more states?\n",
    "\n",
    "Bonus: what about changing the color of the selection of the state along with the color of the line?"
   ]
  },
  {
   "cell_type": "code",
   "execution_count": 44,
   "metadata": {},
   "outputs": [],
   "source": [
    "bqplot.Lines?"
   ]
  },
  {
   "cell_type": "markdown",
   "metadata": {},
   "source": [
    "# Choose your own adventure\n",
    "1. HW\n",
    "1. More with maps\n",
    "  * How to change line colors?\n",
    "  * What about display colors (hint - in other nb for this week)\n",
    "  * What about select colors?\n",
    "  * How about other data? - https://github.com/fivethirtyeight/data (librarians has state-by-state data)\n"
   ]
  },
  {
   "cell_type": "code",
   "execution_count": 4,
   "metadata": {},
   "outputs": [],
   "source": [
    "bqplot.topo_load?"
   ]
  },
  {
   "cell_type": "code",
   "execution_count": null,
   "metadata": {},
   "outputs": [],
   "source": []
  }
 ],
 "metadata": {
  "kernelspec": {
   "display_name": "Python 3",
   "language": "python",
   "name": "python3"
  },
  "language_info": {
   "codemirror_mode": {
    "name": "ipython",
    "version": 3
   },
   "file_extension": ".py",
   "mimetype": "text/x-python",
   "name": "python",
   "nbconvert_exporter": "python",
   "pygments_lexer": "ipython3",
   "version": "3.7.7"
  }
 },
 "nbformat": 4,
 "nbformat_minor": 2
}
